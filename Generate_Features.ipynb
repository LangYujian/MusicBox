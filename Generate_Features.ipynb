{
 "cells": [
  {
   "cell_type": "code",
   "execution_count": 8,
   "metadata": {
    "collapsed": true
   },
   "outputs": [],
   "source": [
    "import os\n",
    "import random\n",
    "filepath = '/Users/Peter/Desktop/5000/Data Science/Projects/Python/MusicBox/data/data/data/'"
   ]
  },
  {
   "cell_type": "code",
   "execution_count": 4,
   "metadata": {
    "collapsed": false
   },
   "outputs": [
    {
     "name": "stdout",
     "output_type": "stream",
     "text": [
      "File play/all_play.log Start\n",
      "File search/all_search.log Start\n",
      "File down/all_down.log Start\n"
     ]
    }
   ],
   "source": [
    "FileName = ['play/all_play.log', 'search/all_search.log', 'down/all_down.log']\n",
    "date_time = ['20170505', '20170428', '20170421', '20170414', '20170407', '20170331']\n",
    "dict_list = [set(), set(), set(), set(), set(), set()]\n",
    "for name in FileName:\n",
    "    print('File %s Start' % name)\n",
    "    with open(filepath + name, 'r') as f:\n",
    "        for line in f:\n",
    "            line_list = line[:-1].split('\\t')\n",
    "            for index in range(len(date_time)):\n",
    "                if line_list[2] > date_time[index]:\n",
    "                    dict_list[index].add(line_list[0])\n",
    "                    break"
   ]
  },
  {
   "cell_type": "code",
   "execution_count": 5,
   "metadata": {
    "collapsed": false
   },
   "outputs": [
    {
     "name": "stdout",
     "output_type": "stream",
     "text": [
      "Active Users: 177190\n",
      "Active Users: 190713\n",
      "Active Users: 202442\n",
      "Active Users: 229237\n",
      "Active Users: 256258\n",
      "Active Users: 352023\n"
     ]
    }
   ],
   "source": [
    "for dictionary in dict_list:\n",
    "    print('Active Users: %s' % len(dictionary))"
   ]
  },
  {
   "cell_type": "code",
   "execution_count": 6,
   "metadata": {
    "collapsed": false
   },
   "outputs": [
    {
     "data": {
      "text/plain": [
       "[<matplotlib.lines.Line2D at 0x117436ad0>]"
      ]
     },
     "execution_count": 6,
     "metadata": {},
     "output_type": "execute_result"
    }
   ],
   "source": [
    "import matplotlib.pyplot as plt\n",
    "plt.plot([len(dictionary) for dictionary in dict_list])"
   ]
  },
  {
   "cell_type": "code",
   "execution_count": 6,
   "metadata": {
    "collapsed": false
   },
   "outputs": [],
   "source": [
    "stay_rate = [0] * 6\n",
    "turnover_rate = [0] * 6\n",
    "for index in range(1, len(dict_list)):\n",
    "    same = (dict_list[index-1] & dict_list[index])\n",
    "    stay_rate[index] = round(float(len(same)) / float(len(dict_list[index-1])), 5)\n",
    "    if (len(dict_list[index - 1]) - len(same) != 0):\n",
    "        turnover_rate[index] = round(float(len(dict_list[index]) - len(same))/float(len(dict_list[index - 1]) - len(same)), 5)"
   ]
  },
  {
   "cell_type": "code",
   "execution_count": 13,
   "metadata": {
    "collapsed": false
   },
   "outputs": [
    {
     "name": "stdout",
     "output_type": "stream",
     "text": [
      "Stay Rate is: [0, 0.75611, 0.74774, 0.77356, 0.77067, 0.82245]\n",
      "TurnOver Rate (leave : come) is: [0, 1.31292, 1.2438, 1.58453, 1.514, 3.10477]\n"
     ]
    }
   ],
   "source": [
    "print('Stay Rate is: %s' % stay_rate)\n",
    "print('TurnOver Rate (leave : come) is: %s' % turnover_rate)"
   ]
  },
  {
   "cell_type": "code",
   "execution_count": 14,
   "metadata": {
    "collapsed": true
   },
   "outputs": [],
   "source": [
    "FixedDatePoint = '20170421'"
   ]
  },
  {
   "cell_type": "code",
   "execution_count": 20,
   "metadata": {
    "collapsed": false
   },
   "outputs": [],
   "source": [
    "active_users = dict()\n",
    "with open(filepath + 'play/all_play.log', 'r') as f:\n",
    "    for line in f:\n",
    "        line_list = line.split('\\t')\n",
    "        line_list = [line.replace(\" \", \"\") for line in line_list]\n",
    "        if (len(line_list) == 3):\n",
    "            if line_list[2] < FixedDatePoint and line_list[2] >= '20170330':\n",
    "                if line_list[0] in active_users:\n",
    "                    active_users[line_list[0]] += 1\n",
    "                else:\n",
    "                    active_users[line_list[0]] = 1\n",
    "Active_Users_Before = set()\n",
    "for user, count in active_users.items():\n",
    "    if count > 3:\n",
    "        Active_Users_Before.add(user)"
   ]
  },
  {
   "cell_type": "markdown",
   "metadata": {},
   "source": [
    "Active Users are defined as users who plays songs for more than 3 times."
   ]
  },
  {
   "cell_type": "markdown",
   "metadata": {},
   "source": [
    "active User Number after and before simple filtering (3 times play records)"
   ]
  },
  {
   "cell_type": "code",
   "execution_count": 27,
   "metadata": {
    "collapsed": false
   },
   "outputs": [
    {
     "name": "stdout",
     "output_type": "stream",
     "text": [
      "477300\n",
      "568503\n"
     ]
    }
   ],
   "source": [
    "print(len(Active_Users_Before))\n",
    "print(len(active_users))"
   ]
  },
  {
   "cell_type": "code",
   "execution_count": 28,
   "metadata": {
    "collapsed": false
   },
   "outputs": [
    {
     "name": "stdout",
     "output_type": "stream",
     "text": [
      "File play/all_play.log Start\n",
      "File play/all_play.log Complete\n",
      "File search/all_search.log Start\n",
      "File search/all_search.log Complete\n",
      "File down/all_down.log Start\n",
      "File down/all_down.log Complete\n",
      "active users before is: 477300\n",
      "churnUser Number is: 236222\n",
      "chosenUser Number is: 238828\n",
      "Active User Before Number is: 477300\n",
      "Active User After Number is: 282575\n",
      "Active Chosen User Number is :120724\n",
      "Churn Chosen User Number is :118104\n"
     ]
    }
   ],
   "source": [
    "Active_Users_After = set()\n",
    "\n",
    "for name in FileName:\n",
    "    print('File %s Start' % name)\n",
    "    with open(filepath + name, 'r') as f:\n",
    "        for line in f:\n",
    "            line_list = line.split('\\t')\n",
    "            line_list = [line.replace(\" \", \"\") for line in line_list]\n",
    "            if (len(line_list) == 3):\n",
    "                if line_list[2] >= FixedDatePoint:\n",
    "                    Active_Users_After.add(line_list[0])\n",
    "    print('File %s Complete' % name)\n",
    "\n",
    "churnRate = 0.5\n",
    "activeRate = 0.5\n",
    "churnUser = set()\n",
    "for user in Active_Users_Before:\n",
    "    if (user not in Active_Users_After):\n",
    "        churnUser.add(user)\n",
    "print('active users before is: %d' % len(Active_Users_Before))\n",
    "print('churnUser Number is: %d' % len(churnUser))\n",
    "chosenUser = set()\n",
    "churnUserNum = 0\n",
    "activeUserNum = 0\n",
    "for user in Active_Users_Before:\n",
    "    if (user in churnUser):\n",
    "        if random.random() < churnRate:\n",
    "            chosenUser.add(user)\n",
    "            churnUserNum += 1\n",
    "    else:\n",
    "        if random.random() < activeRate:\n",
    "            chosenUser.add(user)\n",
    "            activeUserNum += 1\n",
    "print('chosenUser Number is: %d' % len(chosenUser))\n",
    "print('Active User Before Number is: %d' % len(Active_Users_Before))\n",
    "print('Active User After Number is: %d' % len(Active_Users_After))\n",
    "print('Active Chosen User Number is :%d' % activeUserNum)\n",
    "print('Churn Chosen User Number is :%d' % churnUserNum)"
   ]
  },
  {
   "cell_type": "code",
   "execution_count": 29,
   "metadata": {
    "collapsed": false
   },
   "outputs": [
    {
     "name": "stdout",
     "output_type": "stream",
     "text": [
      "File play/all_play.log Output Start\n",
      "File play/all_play.log Output Complete\n",
      "File search/all_search.log Output Start\n",
      "File search/all_search.log Output Complete\n",
      "File down/all_down.log Output Start\n",
      "File down/all_down.log Output Complete\n"
     ]
    }
   ],
   "source": [
    "outputFile = open('select.log', 'w')\n",
    "typeName = ['p', 's', 'd']\n",
    "index = 0\n",
    "for name in FileName:\n",
    "    print('File %s Output Start' % name)\n",
    "    with open(filepath + name, 'r') as f:\n",
    "        for line in f:\n",
    "            line = line[:-1].split('\\t')\n",
    "            if (len(line) == 3 and line[0] in chosenUser):\n",
    "                line = line[0] + '\\t' + line[1] + '\\t' + line[2] + '\\t' +  typeName[index] + '\\n'\n",
    "                outputFile.write(line)\n",
    "    print('File %s Output Complete' % name)\n",
    "    index += 1\n",
    "\n",
    "outputFile.close()"
   ]
  },
  {
   "cell_type": "code",
   "execution_count": 31,
   "metadata": {
    "collapsed": false
   },
   "outputs": [
    {
     "name": "stdout",
     "output_type": "stream",
     "text": [
      "user info generate complete\n",
      "user info data frame generate complete\n",
      "user info dataframe output complete\n"
     ]
    }
   ],
   "source": [
    "import pandas as pd\n",
    "from datetime import datetime\n",
    "\n",
    "Fixed_Date = '20170421'\n",
    "user_info = dict()\n",
    "type_dict = {'s': 0, 'p': 1, 'd':2}\n",
    "date = ['20170421', '20170415', '20170408']\n",
    "with open('select.log', 'r') as f:\n",
    "    for line in f:\n",
    "        line = line[:-1].split('\\t')\n",
    "        if line[0] not in user_info:\n",
    "            user_info[line[0]] = [line[1]] + [0] * 9 + [1]\n",
    "        if (line[2] > Fixed_Date):\n",
    "            user_info[line[0]][10] = 0\n",
    "        else:\n",
    "            type_index = type_dict[line[3]]\n",
    "            for i in range(len(date)):\n",
    "                if (line[2] >= date[i]):\n",
    "                    user_info[line[0]][type_index * 3 + 1 + i] += 1\n",
    "        \n",
    "\n",
    "print('user info generate complete')\n",
    "names = ['user_id', 'phone', 'search_1', 'search_7', 'search_14', \n",
    "         'play_1', 'play_7', 'play_14', 'down_1', 'down_7', 'down_14', 'churn']\n",
    "data = dict()\n",
    "for name in names:\n",
    "    data[name] = []\n",
    "\n",
    "for user_id, info in user_info.items():\n",
    "    data[names[0]].append(user_id)\n",
    "    for i in range(len(info)):\n",
    "        data[names[i + 1]].append(info[i])\n",
    "print('user info data frame generate complete')\n",
    "\n",
    "df = pd.DataFrame(data = data)\n",
    "\n",
    "df.to_csv('generate.csv', index = False)\n",
    "print('user info dataframe output complete')\n",
    "df.to_csv('generate.csv', index = False)"
   ]
  },
  {
   "cell_type": "code",
   "execution_count": 32,
   "metadata": {
    "collapsed": true
   },
   "outputs": [],
   "source": [
    "df_generate = pd.read_csv('generate.csv')"
   ]
  },
  {
   "cell_type": "code",
   "execution_count": 34,
   "metadata": {
    "collapsed": false
   },
   "outputs": [],
   "source": [
    "df_generate = df_generate[names]"
   ]
  },
  {
   "cell_type": "code",
   "execution_count": 35,
   "metadata": {
    "collapsed": false
   },
   "outputs": [
    {
     "data": {
      "text/html": [
       "<div>\n",
       "<style>\n",
       "    .dataframe thead tr:only-child th {\n",
       "        text-align: right;\n",
       "    }\n",
       "\n",
       "    .dataframe thead th {\n",
       "        text-align: left;\n",
       "    }\n",
       "\n",
       "    .dataframe tbody tr th {\n",
       "        vertical-align: top;\n",
       "    }\n",
       "</style>\n",
       "<table border=\"1\" class=\"dataframe\">\n",
       "  <thead>\n",
       "    <tr style=\"text-align: right;\">\n",
       "      <th></th>\n",
       "      <th>user_id</th>\n",
       "      <th>phone</th>\n",
       "      <th>search_1</th>\n",
       "      <th>search_7</th>\n",
       "      <th>search_14</th>\n",
       "      <th>play_1</th>\n",
       "      <th>play_7</th>\n",
       "      <th>play_14</th>\n",
       "      <th>down_1</th>\n",
       "      <th>down_7</th>\n",
       "      <th>down_14</th>\n",
       "      <th>churn</th>\n",
       "    </tr>\n",
       "  </thead>\n",
       "  <tbody>\n",
       "    <tr>\n",
       "      <th>0</th>\n",
       "      <td>167591585</td>\n",
       "      <td>ar</td>\n",
       "      <td>0</td>\n",
       "      <td>0</td>\n",
       "      <td>0</td>\n",
       "      <td>0</td>\n",
       "      <td>0</td>\n",
       "      <td>0</td>\n",
       "      <td>0</td>\n",
       "      <td>0</td>\n",
       "      <td>0</td>\n",
       "      <td>1</td>\n",
       "    </tr>\n",
       "    <tr>\n",
       "      <th>1</th>\n",
       "      <td>168134533</td>\n",
       "      <td>ar</td>\n",
       "      <td>0</td>\n",
       "      <td>4</td>\n",
       "      <td>10</td>\n",
       "      <td>22</td>\n",
       "      <td>36</td>\n",
       "      <td>70</td>\n",
       "      <td>0</td>\n",
       "      <td>0</td>\n",
       "      <td>1</td>\n",
       "      <td>0</td>\n",
       "    </tr>\n",
       "    <tr>\n",
       "      <th>2</th>\n",
       "      <td>167891787</td>\n",
       "      <td>ar</td>\n",
       "      <td>0</td>\n",
       "      <td>0</td>\n",
       "      <td>0</td>\n",
       "      <td>28</td>\n",
       "      <td>44</td>\n",
       "      <td>71</td>\n",
       "      <td>0</td>\n",
       "      <td>0</td>\n",
       "      <td>0</td>\n",
       "      <td>0</td>\n",
       "    </tr>\n",
       "    <tr>\n",
       "      <th>3</th>\n",
       "      <td>167591586</td>\n",
       "      <td>ar</td>\n",
       "      <td>0</td>\n",
       "      <td>0</td>\n",
       "      <td>0</td>\n",
       "      <td>0</td>\n",
       "      <td>66</td>\n",
       "      <td>147</td>\n",
       "      <td>0</td>\n",
       "      <td>0</td>\n",
       "      <td>0</td>\n",
       "      <td>1</td>\n",
       "    </tr>\n",
       "    <tr>\n",
       "      <th>4</th>\n",
       "      <td>168113743</td>\n",
       "      <td>ar</td>\n",
       "      <td>0</td>\n",
       "      <td>3</td>\n",
       "      <td>8</td>\n",
       "      <td>0</td>\n",
       "      <td>7</td>\n",
       "      <td>13</td>\n",
       "      <td>0</td>\n",
       "      <td>0</td>\n",
       "      <td>0</td>\n",
       "      <td>0</td>\n",
       "    </tr>\n",
       "    <tr>\n",
       "      <th>5</th>\n",
       "      <td>167591582</td>\n",
       "      <td>ar</td>\n",
       "      <td>0</td>\n",
       "      <td>0</td>\n",
       "      <td>0</td>\n",
       "      <td>0</td>\n",
       "      <td>0</td>\n",
       "      <td>66</td>\n",
       "      <td>0</td>\n",
       "      <td>0</td>\n",
       "      <td>0</td>\n",
       "      <td>1</td>\n",
       "    </tr>\n",
       "    <tr>\n",
       "      <th>6</th>\n",
       "      <td>168743941</td>\n",
       "      <td>ar</td>\n",
       "      <td>0</td>\n",
       "      <td>0</td>\n",
       "      <td>0</td>\n",
       "      <td>23</td>\n",
       "      <td>279</td>\n",
       "      <td>484</td>\n",
       "      <td>0</td>\n",
       "      <td>0</td>\n",
       "      <td>0</td>\n",
       "      <td>0</td>\n",
       "    </tr>\n",
       "    <tr>\n",
       "      <th>7</th>\n",
       "      <td>168623764</td>\n",
       "      <td>ar</td>\n",
       "      <td>0</td>\n",
       "      <td>0</td>\n",
       "      <td>0</td>\n",
       "      <td>0</td>\n",
       "      <td>0</td>\n",
       "      <td>0</td>\n",
       "      <td>0</td>\n",
       "      <td>0</td>\n",
       "      <td>0</td>\n",
       "      <td>1</td>\n",
       "    </tr>\n",
       "    <tr>\n",
       "      <th>8</th>\n",
       "      <td>167910301</td>\n",
       "      <td>ar</td>\n",
       "      <td>0</td>\n",
       "      <td>0</td>\n",
       "      <td>0</td>\n",
       "      <td>8</td>\n",
       "      <td>25</td>\n",
       "      <td>75</td>\n",
       "      <td>0</td>\n",
       "      <td>0</td>\n",
       "      <td>0</td>\n",
       "      <td>0</td>\n",
       "    </tr>\n",
       "    <tr>\n",
       "      <th>9</th>\n",
       "      <td>167910302</td>\n",
       "      <td>ip</td>\n",
       "      <td>0</td>\n",
       "      <td>0</td>\n",
       "      <td>0</td>\n",
       "      <td>22</td>\n",
       "      <td>199</td>\n",
       "      <td>310</td>\n",
       "      <td>0</td>\n",
       "      <td>0</td>\n",
       "      <td>0</td>\n",
       "      <td>0</td>\n",
       "    </tr>\n",
       "  </tbody>\n",
       "</table>\n",
       "</div>"
      ],
      "text/plain": [
       "     user_id phone  search_1  search_7  search_14  play_1  play_7  play_14  \\\n",
       "0  167591585    ar         0         0          0       0       0        0   \n",
       "1  168134533    ar         0         4         10      22      36       70   \n",
       "2  167891787    ar         0         0          0      28      44       71   \n",
       "3  167591586    ar         0         0          0       0      66      147   \n",
       "4  168113743    ar         0         3          8       0       7       13   \n",
       "5  167591582    ar         0         0          0       0       0       66   \n",
       "6  168743941    ar         0         0          0      23     279      484   \n",
       "7  168623764    ar         0         0          0       0       0        0   \n",
       "8  167910301    ar         0         0          0       8      25       75   \n",
       "9  167910302    ip         0         0          0      22     199      310   \n",
       "\n",
       "   down_1  down_7  down_14  churn  \n",
       "0       0       0        0      1  \n",
       "1       0       0        1      0  \n",
       "2       0       0        0      0  \n",
       "3       0       0        0      1  \n",
       "4       0       0        0      0  \n",
       "5       0       0        0      1  \n",
       "6       0       0        0      0  \n",
       "7       0       0        0      1  \n",
       "8       0       0        0      0  \n",
       "9       0       0        0      0  "
      ]
     },
     "execution_count": 35,
     "metadata": {},
     "output_type": "execute_result"
    }
   ],
   "source": [
    "df_generate.head(10)"
   ]
  },
  {
   "cell_type": "code",
   "execution_count": 36,
   "metadata": {
    "collapsed": true
   },
   "outputs": [],
   "source": [
    "df_generate.to_csv('generate.csv', index = False)"
   ]
  },
  {
   "cell_type": "code",
   "execution_count": 9,
   "metadata": {
    "collapsed": false
   },
   "outputs": [
    {
     "data": {
      "text/html": [
       "<div>\n",
       "<style>\n",
       "    .dataframe thead tr:only-child th {\n",
       "        text-align: right;\n",
       "    }\n",
       "\n",
       "    .dataframe thead th {\n",
       "        text-align: left;\n",
       "    }\n",
       "\n",
       "    .dataframe tbody tr th {\n",
       "        vertical-align: top;\n",
       "    }\n",
       "</style>\n",
       "<table border=\"1\" class=\"dataframe\">\n",
       "  <thead>\n",
       "    <tr style=\"text-align: right;\">\n",
       "      <th></th>\n",
       "      <th>user_id</th>\n",
       "      <th>phone</th>\n",
       "      <th>search_1</th>\n",
       "      <th>search_7</th>\n",
       "      <th>search_14</th>\n",
       "      <th>play_1</th>\n",
       "      <th>play_7</th>\n",
       "      <th>play_14</th>\n",
       "      <th>down_1</th>\n",
       "      <th>down_7</th>\n",
       "      <th>down_14</th>\n",
       "      <th>churn</th>\n",
       "    </tr>\n",
       "  </thead>\n",
       "  <tbody>\n",
       "    <tr>\n",
       "      <th>0</th>\n",
       "      <td>167591585</td>\n",
       "      <td>ar</td>\n",
       "      <td>0</td>\n",
       "      <td>0</td>\n",
       "      <td>0</td>\n",
       "      <td>0</td>\n",
       "      <td>0</td>\n",
       "      <td>0</td>\n",
       "      <td>0</td>\n",
       "      <td>0</td>\n",
       "      <td>0</td>\n",
       "      <td>1</td>\n",
       "    </tr>\n",
       "    <tr>\n",
       "      <th>1</th>\n",
       "      <td>168134533</td>\n",
       "      <td>ar</td>\n",
       "      <td>0</td>\n",
       "      <td>4</td>\n",
       "      <td>10</td>\n",
       "      <td>22</td>\n",
       "      <td>36</td>\n",
       "      <td>70</td>\n",
       "      <td>0</td>\n",
       "      <td>0</td>\n",
       "      <td>1</td>\n",
       "      <td>0</td>\n",
       "    </tr>\n",
       "    <tr>\n",
       "      <th>2</th>\n",
       "      <td>167891787</td>\n",
       "      <td>ar</td>\n",
       "      <td>0</td>\n",
       "      <td>0</td>\n",
       "      <td>0</td>\n",
       "      <td>28</td>\n",
       "      <td>44</td>\n",
       "      <td>71</td>\n",
       "      <td>0</td>\n",
       "      <td>0</td>\n",
       "      <td>0</td>\n",
       "      <td>0</td>\n",
       "    </tr>\n",
       "    <tr>\n",
       "      <th>3</th>\n",
       "      <td>167591586</td>\n",
       "      <td>ar</td>\n",
       "      <td>0</td>\n",
       "      <td>0</td>\n",
       "      <td>0</td>\n",
       "      <td>0</td>\n",
       "      <td>66</td>\n",
       "      <td>147</td>\n",
       "      <td>0</td>\n",
       "      <td>0</td>\n",
       "      <td>0</td>\n",
       "      <td>1</td>\n",
       "    </tr>\n",
       "    <tr>\n",
       "      <th>4</th>\n",
       "      <td>168113743</td>\n",
       "      <td>ar</td>\n",
       "      <td>0</td>\n",
       "      <td>3</td>\n",
       "      <td>8</td>\n",
       "      <td>0</td>\n",
       "      <td>7</td>\n",
       "      <td>13</td>\n",
       "      <td>0</td>\n",
       "      <td>0</td>\n",
       "      <td>0</td>\n",
       "      <td>0</td>\n",
       "    </tr>\n",
       "    <tr>\n",
       "      <th>5</th>\n",
       "      <td>167591582</td>\n",
       "      <td>ar</td>\n",
       "      <td>0</td>\n",
       "      <td>0</td>\n",
       "      <td>0</td>\n",
       "      <td>0</td>\n",
       "      <td>0</td>\n",
       "      <td>66</td>\n",
       "      <td>0</td>\n",
       "      <td>0</td>\n",
       "      <td>0</td>\n",
       "      <td>1</td>\n",
       "    </tr>\n",
       "    <tr>\n",
       "      <th>6</th>\n",
       "      <td>168743941</td>\n",
       "      <td>ar</td>\n",
       "      <td>0</td>\n",
       "      <td>0</td>\n",
       "      <td>0</td>\n",
       "      <td>23</td>\n",
       "      <td>279</td>\n",
       "      <td>484</td>\n",
       "      <td>0</td>\n",
       "      <td>0</td>\n",
       "      <td>0</td>\n",
       "      <td>0</td>\n",
       "    </tr>\n",
       "    <tr>\n",
       "      <th>7</th>\n",
       "      <td>168623764</td>\n",
       "      <td>ar</td>\n",
       "      <td>0</td>\n",
       "      <td>0</td>\n",
       "      <td>0</td>\n",
       "      <td>0</td>\n",
       "      <td>0</td>\n",
       "      <td>0</td>\n",
       "      <td>0</td>\n",
       "      <td>0</td>\n",
       "      <td>0</td>\n",
       "      <td>1</td>\n",
       "    </tr>\n",
       "    <tr>\n",
       "      <th>8</th>\n",
       "      <td>167910301</td>\n",
       "      <td>ar</td>\n",
       "      <td>0</td>\n",
       "      <td>0</td>\n",
       "      <td>0</td>\n",
       "      <td>8</td>\n",
       "      <td>25</td>\n",
       "      <td>75</td>\n",
       "      <td>0</td>\n",
       "      <td>0</td>\n",
       "      <td>0</td>\n",
       "      <td>0</td>\n",
       "    </tr>\n",
       "    <tr>\n",
       "      <th>9</th>\n",
       "      <td>167910302</td>\n",
       "      <td>ip</td>\n",
       "      <td>0</td>\n",
       "      <td>0</td>\n",
       "      <td>0</td>\n",
       "      <td>22</td>\n",
       "      <td>199</td>\n",
       "      <td>310</td>\n",
       "      <td>0</td>\n",
       "      <td>0</td>\n",
       "      <td>0</td>\n",
       "      <td>0</td>\n",
       "    </tr>\n",
       "  </tbody>\n",
       "</table>\n",
       "</div>"
      ],
      "text/plain": [
       "     user_id phone  search_1  search_7  search_14  play_1  play_7  play_14  \\\n",
       "0  167591585    ar         0         0          0       0       0        0   \n",
       "1  168134533    ar         0         4         10      22      36       70   \n",
       "2  167891787    ar         0         0          0      28      44       71   \n",
       "3  167591586    ar         0         0          0       0      66      147   \n",
       "4  168113743    ar         0         3          8       0       7       13   \n",
       "5  167591582    ar         0         0          0       0       0       66   \n",
       "6  168743941    ar         0         0          0      23     279      484   \n",
       "7  168623764    ar         0         0          0       0       0        0   \n",
       "8  167910301    ar         0         0          0       8      25       75   \n",
       "9  167910302    ip         0         0          0      22     199      310   \n",
       "\n",
       "   down_1  down_7  down_14  churn  \n",
       "0       0       0        0      1  \n",
       "1       0       0        1      0  \n",
       "2       0       0        0      0  \n",
       "3       0       0        0      1  \n",
       "4       0       0        0      0  \n",
       "5       0       0        0      1  \n",
       "6       0       0        0      0  \n",
       "7       0       0        0      1  \n",
       "8       0       0        0      0  \n",
       "9       0       0        0      0  "
      ]
     },
     "execution_count": 9,
     "metadata": {},
     "output_type": "execute_result"
    }
   ],
   "source": [
    "import pandas as pd\n",
    "df_generate = pd.read_csv('generate.csv')\n",
    "df_generate.head(10)"
   ]
  },
  {
   "cell_type": "code",
   "execution_count": 10,
   "metadata": {
    "collapsed": false
   },
   "outputs": [
    {
     "data": {
      "text/plain": [
       "(238828, 12)"
      ]
     },
     "execution_count": 10,
     "metadata": {},
     "output_type": "execute_result"
    }
   ],
   "source": [
    "df_generate.shape"
   ]
  },
  {
   "cell_type": "code",
   "execution_count": null,
   "metadata": {
    "collapsed": true
   },
   "outputs": [],
   "source": []
  }
 ],
 "metadata": {
  "kernelspec": {
   "display_name": "Python 2",
   "language": "python",
   "name": "python2"
  },
  "language_info": {
   "codemirror_mode": {
    "name": "ipython",
    "version": 2
   },
   "file_extension": ".py",
   "mimetype": "text/x-python",
   "name": "python",
   "nbconvert_exporter": "python",
   "pygments_lexer": "ipython2",
   "version": "2.7.12"
  }
 },
 "nbformat": 4,
 "nbformat_minor": 1
}
