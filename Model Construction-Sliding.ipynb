{
 "cells": [
  {
   "cell_type": "code",
   "execution_count": 2,
   "metadata": {
    "collapsed": true
   },
   "outputs": [],
   "source": [
    "import pandas as pd\n",
    "import numpy as np"
   ]
  },
  {
   "cell_type": "markdown",
   "metadata": {},
   "source": [
    "### Use the generated feature file as the input for the model construction"
   ]
  },
  {
   "cell_type": "code",
   "execution_count": 4,
   "metadata": {
    "collapsed": false
   },
   "outputs": [
    {
     "data": {
      "text/html": [
       "<div>\n",
       "<style>\n",
       "    .dataframe thead tr:only-child th {\n",
       "        text-align: right;\n",
       "    }\n",
       "\n",
       "    .dataframe thead th {\n",
       "        text-align: left;\n",
       "    }\n",
       "\n",
       "    .dataframe tbody tr th {\n",
       "        vertical-align: top;\n",
       "    }\n",
       "</style>\n",
       "<table border=\"1\" class=\"dataframe\">\n",
       "  <thead>\n",
       "    <tr style=\"text-align: right;\">\n",
       "      <th></th>\n",
       "      <th>user_id</th>\n",
       "      <th>phone</th>\n",
       "      <th>search_1</th>\n",
       "      <th>search_7</th>\n",
       "      <th>search_14</th>\n",
       "      <th>play_1</th>\n",
       "      <th>play_7</th>\n",
       "      <th>play_14</th>\n",
       "      <th>down_1</th>\n",
       "      <th>down_7</th>\n",
       "      <th>down_14</th>\n",
       "      <th>churn</th>\n",
       "    </tr>\n",
       "  </thead>\n",
       "  <tbody>\n",
       "    <tr>\n",
       "      <th>0</th>\n",
       "      <td>168276196</td>\n",
       "      <td>ar</td>\n",
       "      <td>0</td>\n",
       "      <td>0</td>\n",
       "      <td>0</td>\n",
       "      <td>0</td>\n",
       "      <td>8</td>\n",
       "      <td>159</td>\n",
       "      <td>0</td>\n",
       "      <td>0</td>\n",
       "      <td>0</td>\n",
       "      <td>1</td>\n",
       "    </tr>\n",
       "    <tr>\n",
       "      <th>1</th>\n",
       "      <td>169017759</td>\n",
       "      <td>ar</td>\n",
       "      <td>1</td>\n",
       "      <td>6</td>\n",
       "      <td>37</td>\n",
       "      <td>228</td>\n",
       "      <td>322</td>\n",
       "      <td>563</td>\n",
       "      <td>0</td>\n",
       "      <td>1</td>\n",
       "      <td>221</td>\n",
       "      <td>0</td>\n",
       "    </tr>\n",
       "    <tr>\n",
       "      <th>2</th>\n",
       "      <td>168494395</td>\n",
       "      <td>ar</td>\n",
       "      <td>4</td>\n",
       "      <td>4</td>\n",
       "      <td>5</td>\n",
       "      <td>7</td>\n",
       "      <td>7</td>\n",
       "      <td>56</td>\n",
       "      <td>0</td>\n",
       "      <td>0</td>\n",
       "      <td>0</td>\n",
       "      <td>0</td>\n",
       "    </tr>\n",
       "  </tbody>\n",
       "</table>\n",
       "</div>"
      ],
      "text/plain": [
       "     user_id phone  search_1  search_7  search_14  play_1  play_7  play_14  \\\n",
       "0  168276196    ar         0         0          0       0       8      159   \n",
       "1  169017759    ar         1         6         37     228     322      563   \n",
       "2  168494395    ar         4         4          5       7       7       56   \n",
       "\n",
       "   down_1  down_7  down_14  churn  \n",
       "0       0       0        0      1  \n",
       "1       0       1      221      0  \n",
       "2       0       0        0      0  "
      ]
     },
     "execution_count": 4,
     "metadata": {},
     "output_type": "execute_result"
    }
   ],
   "source": [
    "df = pd.read_csv('generate_sliding.csv')\n",
    "df.head(3)"
   ]
  },
  {
   "cell_type": "code",
   "execution_count": 5,
   "metadata": {
    "collapsed": false
   },
   "outputs": [
    {
     "data": {
      "text/html": [
       "<div>\n",
       "<style>\n",
       "    .dataframe thead tr:only-child th {\n",
       "        text-align: right;\n",
       "    }\n",
       "\n",
       "    .dataframe thead th {\n",
       "        text-align: left;\n",
       "    }\n",
       "\n",
       "    .dataframe tbody tr th {\n",
       "        vertical-align: top;\n",
       "    }\n",
       "</style>\n",
       "<table border=\"1\" class=\"dataframe\">\n",
       "  <thead>\n",
       "    <tr style=\"text-align: right;\">\n",
       "      <th></th>\n",
       "      <th>phone</th>\n",
       "      <th>search_1</th>\n",
       "      <th>search_7</th>\n",
       "      <th>search_14</th>\n",
       "      <th>play_1</th>\n",
       "      <th>play_7</th>\n",
       "      <th>play_14</th>\n",
       "      <th>down_1</th>\n",
       "      <th>down_7</th>\n",
       "      <th>down_14</th>\n",
       "      <th>churn</th>\n",
       "    </tr>\n",
       "  </thead>\n",
       "  <tbody>\n",
       "    <tr>\n",
       "      <th>0</th>\n",
       "      <td>ar</td>\n",
       "      <td>0</td>\n",
       "      <td>0</td>\n",
       "      <td>0</td>\n",
       "      <td>0</td>\n",
       "      <td>8</td>\n",
       "      <td>159</td>\n",
       "      <td>0</td>\n",
       "      <td>0</td>\n",
       "      <td>0</td>\n",
       "      <td>1</td>\n",
       "    </tr>\n",
       "    <tr>\n",
       "      <th>1</th>\n",
       "      <td>ar</td>\n",
       "      <td>1</td>\n",
       "      <td>6</td>\n",
       "      <td>37</td>\n",
       "      <td>228</td>\n",
       "      <td>322</td>\n",
       "      <td>563</td>\n",
       "      <td>0</td>\n",
       "      <td>1</td>\n",
       "      <td>221</td>\n",
       "      <td>0</td>\n",
       "    </tr>\n",
       "    <tr>\n",
       "      <th>2</th>\n",
       "      <td>ar</td>\n",
       "      <td>4</td>\n",
       "      <td>4</td>\n",
       "      <td>5</td>\n",
       "      <td>7</td>\n",
       "      <td>7</td>\n",
       "      <td>56</td>\n",
       "      <td>0</td>\n",
       "      <td>0</td>\n",
       "      <td>0</td>\n",
       "      <td>0</td>\n",
       "    </tr>\n",
       "  </tbody>\n",
       "</table>\n",
       "</div>"
      ],
      "text/plain": [
       "  phone  search_1  search_7  search_14  play_1  play_7  play_14  down_1  \\\n",
       "0    ar         0         0          0       0       8      159       0   \n",
       "1    ar         1         6         37     228     322      563       0   \n",
       "2    ar         4         4          5       7       7       56       0   \n",
       "\n",
       "   down_7  down_14  churn  \n",
       "0       0        0      1  \n",
       "1       1      221      0  \n",
       "2       0        0      0  "
      ]
     },
     "execution_count": 5,
     "metadata": {},
     "output_type": "execute_result"
    }
   ],
   "source": [
    "df_feature = df.drop('user_id', axis = 1)\n",
    "df_feature.head(3)"
   ]
  },
  {
   "cell_type": "code",
   "execution_count": 6,
   "metadata": {
    "collapsed": false
   },
   "outputs": [
    {
     "data": {
      "text/html": [
       "<div>\n",
       "<style>\n",
       "    .dataframe thead tr:only-child th {\n",
       "        text-align: right;\n",
       "    }\n",
       "\n",
       "    .dataframe thead th {\n",
       "        text-align: left;\n",
       "    }\n",
       "\n",
       "    .dataframe tbody tr th {\n",
       "        vertical-align: top;\n",
       "    }\n",
       "</style>\n",
       "<table border=\"1\" class=\"dataframe\">\n",
       "  <thead>\n",
       "    <tr style=\"text-align: right;\">\n",
       "      <th></th>\n",
       "      <th>search_1</th>\n",
       "      <th>search_7</th>\n",
       "      <th>search_14</th>\n",
       "      <th>play_1</th>\n",
       "      <th>play_7</th>\n",
       "      <th>play_14</th>\n",
       "      <th>down_1</th>\n",
       "      <th>down_7</th>\n",
       "      <th>down_14</th>\n",
       "      <th>churn</th>\n",
       "    </tr>\n",
       "  </thead>\n",
       "  <tbody>\n",
       "    <tr>\n",
       "      <th>0</th>\n",
       "      <td>0</td>\n",
       "      <td>0</td>\n",
       "      <td>0</td>\n",
       "      <td>0</td>\n",
       "      <td>8</td>\n",
       "      <td>159</td>\n",
       "      <td>0</td>\n",
       "      <td>0</td>\n",
       "      <td>0</td>\n",
       "      <td>1</td>\n",
       "    </tr>\n",
       "    <tr>\n",
       "      <th>1</th>\n",
       "      <td>1</td>\n",
       "      <td>6</td>\n",
       "      <td>37</td>\n",
       "      <td>228</td>\n",
       "      <td>322</td>\n",
       "      <td>563</td>\n",
       "      <td>0</td>\n",
       "      <td>1</td>\n",
       "      <td>221</td>\n",
       "      <td>0</td>\n",
       "    </tr>\n",
       "    <tr>\n",
       "      <th>2</th>\n",
       "      <td>4</td>\n",
       "      <td>4</td>\n",
       "      <td>5</td>\n",
       "      <td>7</td>\n",
       "      <td>7</td>\n",
       "      <td>56</td>\n",
       "      <td>0</td>\n",
       "      <td>0</td>\n",
       "      <td>0</td>\n",
       "      <td>0</td>\n",
       "    </tr>\n",
       "  </tbody>\n",
       "</table>\n",
       "</div>"
      ],
      "text/plain": [
       "   search_1  search_7  search_14  play_1  play_7  play_14  down_1  down_7  \\\n",
       "0         0         0          0       0       8      159       0       0   \n",
       "1         1         6         37     228     322      563       0       1   \n",
       "2         4         4          5       7       7       56       0       0   \n",
       "\n",
       "   down_14  churn  \n",
       "0        0      1  \n",
       "1      221      0  \n",
       "2        0      0  "
      ]
     },
     "execution_count": 6,
     "metadata": {},
     "output_type": "execute_result"
    }
   ],
   "source": [
    "df_phone = pd.get_dummies(df_feature['phone'])\n",
    "del df_feature['phone']\n",
    "df_feature.head(3)"
   ]
  },
  {
   "cell_type": "code",
   "execution_count": 7,
   "metadata": {
    "collapsed": false
   },
   "outputs": [
    {
     "data": {
      "text/html": [
       "<div>\n",
       "<style>\n",
       "    .dataframe thead tr:only-child th {\n",
       "        text-align: right;\n",
       "    }\n",
       "\n",
       "    .dataframe thead th {\n",
       "        text-align: left;\n",
       "    }\n",
       "\n",
       "    .dataframe tbody tr th {\n",
       "        vertical-align: top;\n",
       "    }\n",
       "</style>\n",
       "<table border=\"1\" class=\"dataframe\">\n",
       "  <thead>\n",
       "    <tr style=\"text-align: right;\">\n",
       "      <th></th>\n",
       "      <th>search_1</th>\n",
       "      <th>search_7</th>\n",
       "      <th>search_14</th>\n",
       "      <th>play_1</th>\n",
       "      <th>play_7</th>\n",
       "      <th>play_14</th>\n",
       "      <th>down_1</th>\n",
       "      <th>down_7</th>\n",
       "      <th>down_14</th>\n",
       "      <th>churn</th>\n",
       "      <th>ar</th>\n",
       "      <th>ip</th>\n",
       "      <th>mc</th>\n",
       "      <th>wp</th>\n",
       "    </tr>\n",
       "  </thead>\n",
       "  <tbody>\n",
       "    <tr>\n",
       "      <th>0</th>\n",
       "      <td>0</td>\n",
       "      <td>0</td>\n",
       "      <td>0</td>\n",
       "      <td>0</td>\n",
       "      <td>8</td>\n",
       "      <td>159</td>\n",
       "      <td>0</td>\n",
       "      <td>0</td>\n",
       "      <td>0</td>\n",
       "      <td>1</td>\n",
       "      <td>1</td>\n",
       "      <td>0</td>\n",
       "      <td>0</td>\n",
       "      <td>0</td>\n",
       "    </tr>\n",
       "    <tr>\n",
       "      <th>1</th>\n",
       "      <td>1</td>\n",
       "      <td>6</td>\n",
       "      <td>37</td>\n",
       "      <td>228</td>\n",
       "      <td>322</td>\n",
       "      <td>563</td>\n",
       "      <td>0</td>\n",
       "      <td>1</td>\n",
       "      <td>221</td>\n",
       "      <td>0</td>\n",
       "      <td>1</td>\n",
       "      <td>0</td>\n",
       "      <td>0</td>\n",
       "      <td>0</td>\n",
       "    </tr>\n",
       "    <tr>\n",
       "      <th>2</th>\n",
       "      <td>4</td>\n",
       "      <td>4</td>\n",
       "      <td>5</td>\n",
       "      <td>7</td>\n",
       "      <td>7</td>\n",
       "      <td>56</td>\n",
       "      <td>0</td>\n",
       "      <td>0</td>\n",
       "      <td>0</td>\n",
       "      <td>0</td>\n",
       "      <td>1</td>\n",
       "      <td>0</td>\n",
       "      <td>0</td>\n",
       "      <td>0</td>\n",
       "    </tr>\n",
       "  </tbody>\n",
       "</table>\n",
       "</div>"
      ],
      "text/plain": [
       "   search_1  search_7  search_14  play_1  play_7  play_14  down_1  down_7  \\\n",
       "0         0         0          0       0       8      159       0       0   \n",
       "1         1         6         37     228     322      563       0       1   \n",
       "2         4         4          5       7       7       56       0       0   \n",
       "\n",
       "   down_14  churn  ar  ip  mc  wp  \n",
       "0        0      1   1   0   0   0  \n",
       "1      221      0   1   0   0   0  \n",
       "2        0      0   1   0   0   0  "
      ]
     },
     "execution_count": 7,
     "metadata": {},
     "output_type": "execute_result"
    }
   ],
   "source": [
    "df_matrix = df_feature.join(df_phone)\n",
    "df_matrix.head(3)"
   ]
  },
  {
   "cell_type": "code",
   "execution_count": 8,
   "metadata": {
    "collapsed": true
   },
   "outputs": [],
   "source": [
    "y = np.array(df_matrix['churn'])\n",
    "del df_matrix['churn']\n",
    "x = np.array(df_matrix)"
   ]
  },
  {
   "cell_type": "code",
   "execution_count": 9,
   "metadata": {
    "collapsed": false
   },
   "outputs": [
    {
     "name": "stdout",
     "output_type": "stream",
     "text": [
      "shape of x is:(363200, 13)\n",
      "shape of y is:(363200,)\n"
     ]
    }
   ],
   "source": [
    "print('shape of x is:%s' % str(x.shape))\n",
    "print('shape of y is:%s' % str(y.shape))"
   ]
  },
  {
   "cell_type": "code",
   "execution_count": 10,
   "metadata": {
    "collapsed": false
   },
   "outputs": [
    {
     "name": "stderr",
     "output_type": "stream",
     "text": [
      "/usr/local/lib/python2.7/site-packages/sklearn/cross_validation.py:44: DeprecationWarning: This module was deprecated in version 0.18 in favor of the model_selection module into which all the refactored classes and functions are moved. Also note that the interface of the new CV iterators are different from that of this module. This module will be removed in 0.20.\n",
      "  \"This module will be removed in 0.20.\", DeprecationWarning)\n"
     ]
    }
   ],
   "source": [
    "from sklearn.cross_validation import train_test_split"
   ]
  },
  {
   "cell_type": "code",
   "execution_count": 11,
   "metadata": {
    "collapsed": true
   },
   "outputs": [],
   "source": [
    "x_train, x_test, y_train, y_test = train_test_split(x,y,test_size=0.5, random_state=0)"
   ]
  },
  {
   "cell_type": "code",
   "execution_count": 12,
   "metadata": {
    "collapsed": false
   },
   "outputs": [
    {
     "data": {
      "text/plain": [
       "(13,)"
      ]
     },
     "execution_count": 12,
     "metadata": {},
     "output_type": "execute_result"
    }
   ],
   "source": [
    "feature_names = df_matrix.columns.values\n",
    "feature_names.shape"
   ]
  },
  {
   "cell_type": "markdown",
   "metadata": {},
   "source": [
    "### Logistic Regression Model"
   ]
  },
  {
   "cell_type": "code",
   "execution_count": 13,
   "metadata": {
    "collapsed": false
   },
   "outputs": [
    {
     "data": {
      "text/plain": [
       "LogisticRegression(C=1.0, class_weight=None, dual=False, fit_intercept=True,\n",
       "          intercept_scaling=1, max_iter=100, multi_class='ovr', n_jobs=1,\n",
       "          penalty='l2', random_state=None, solver='liblinear', tol=0.0001,\n",
       "          verbose=0, warm_start=False)"
      ]
     },
     "execution_count": 13,
     "metadata": {},
     "output_type": "execute_result"
    }
   ],
   "source": [
    "from sklearn.linear_model import LogisticRegression\n",
    "from sklearn.ensemble import RandomForestClassifier\n",
    "from sklearn.model_selection import GridSearchCV  \n",
    "from sklearn import cross_validation\n",
    "\n",
    "LogisticModel = LogisticRegression()\n",
    "LogisticModel.fit(x_train, y_train)"
   ]
  },
  {
   "cell_type": "code",
   "execution_count": 14,
   "metadata": {
    "collapsed": false
   },
   "outputs": [
    {
     "name": "stdout",
     "output_type": "stream",
     "text": [
      "Training DataSet Score: 0.705782\n",
      "Testing DataSet Score: 0.705705\n"
     ]
    }
   ],
   "source": [
    "print('Training DataSet Score: %f' % LogisticModel.score(x_train, y_train))\n",
    "print('Testing DataSet Score: %f' % LogisticModel.score(x_test, y_test))"
   ]
  },
  {
   "cell_type": "markdown",
   "metadata": {},
   "source": [
    "Using GridSearch method to find the best model parameters with lowest mean cross validation score"
   ]
  },
  {
   "cell_type": "code",
   "execution_count": 15,
   "metadata": {
    "collapsed": false
   },
   "outputs": [
    {
     "name": "stdout",
     "output_type": "stream",
     "text": [
      "Logistic Regression: Best parameters set found on development set:\n",
      "{'penalty': 'l2', 'C': 4, 'tol': 0.001}\n"
     ]
    }
   ],
   "source": [
    "LR_param = {\n",
    "    \"penalty\": [\"l1\", \"l2\"],\n",
    "    \"C\": [0.5,1,2,4,8,16],\n",
    "    \"tol\": [0.001,0.0001,0.00001]\n",
    "}\n",
    "LR = LogisticRegression(n_jobs = 4)\n",
    "LR_grid = GridSearchCV(LR, LR_param, cv=5)\n",
    "LR_grid.fit(x_train, y_train)\n",
    "print(\"Logistic Regression: Best parameters set found on development set:\")  \n",
    "print(LR_grid.best_params_)"
   ]
  },
  {
   "cell_type": "code",
   "execution_count": 16,
   "metadata": {
    "collapsed": false
   },
   "outputs": [
    {
     "name": "stdout",
     "output_type": "stream",
     "text": [
      "Training DataSet Score: 0.703320\n",
      "Testing DataSet Score: 0.703084\n"
     ]
    }
   ],
   "source": [
    "LogisticModel = LogisticRegression(penalty = 'l1', C = 8, tol = 0.0001)\n",
    "LogisticModel.fit(x_train, y_train)\n",
    "print('Training DataSet Score: %f' % LogisticModel.score(x_train, y_train))\n",
    "print('Testing DataSet Score: %f' % LogisticModel.score(x_test, y_test))"
   ]
  },
  {
   "cell_type": "code",
   "execution_count": null,
   "metadata": {
    "collapsed": true
   },
   "outputs": [],
   "source": []
  },
  {
   "cell_type": "code",
   "execution_count": 17,
   "metadata": {
    "collapsed": false
   },
   "outputs": [],
   "source": [
    "def get_top_values(lst, n, labels):\n",
    "    return [labels[i] for i in np.argsort(lst)[::-1][:n]]  # np.argsort by default sorts values in ascending order"
   ]
  },
  {
   "cell_type": "markdown",
   "metadata": {},
   "source": [
    "The top 5 features to determine the churn activities are:"
   ]
  },
  {
   "cell_type": "code",
   "execution_count": 18,
   "metadata": {
    "collapsed": false
   },
   "outputs": [
    {
     "data": {
      "text/plain": [
       "['ar', 'ip', 'search_1', 'play_1', 'search_7']"
      ]
     },
     "execution_count": 18,
     "metadata": {},
     "output_type": "execute_result"
    }
   ],
   "source": [
    "coeff = np.absolute(LogisticModel.coef_[0])\n",
    "get_top_values(coeff, 5, feature_names)"
   ]
  },
  {
   "cell_type": "markdown",
   "metadata": {},
   "source": [
    "### Random Forest Classifier"
   ]
  },
  {
   "cell_type": "code",
   "execution_count": 19,
   "metadata": {
    "collapsed": false
   },
   "outputs": [
    {
     "data": {
      "text/plain": [
       "RandomForestClassifier(bootstrap=True, class_weight=None, criterion='gini',\n",
       "            max_depth=None, max_features='auto', max_leaf_nodes=None,\n",
       "            min_impurity_split=1e-07, min_samples_leaf=1,\n",
       "            min_samples_split=2, min_weight_fraction_leaf=0.0,\n",
       "            n_estimators=10, n_jobs=1, oob_score=False, random_state=None,\n",
       "            verbose=0, warm_start=False)"
      ]
     },
     "execution_count": 19,
     "metadata": {},
     "output_type": "execute_result"
    }
   ],
   "source": [
    "RandomForestModel = RandomForestClassifier()\n",
    "RandomForestModel.fit(x_train, y_train)"
   ]
  },
  {
   "cell_type": "code",
   "execution_count": 20,
   "metadata": {
    "collapsed": false
   },
   "outputs": [
    {
     "name": "stdout",
     "output_type": "stream",
     "text": [
      "Training DataSet Score: 0.888689\n",
      "Testing DataSet Score: 0.742065\n"
     ]
    }
   ],
   "source": [
    "print(\"Training DataSet Score: %f\" % (RandomForestModel.score(x_train, y_train)))\n",
    "print(\"Testing DataSet Score: %f\" % (RandomForestModel.score(x_test, y_test)))"
   ]
  },
  {
   "cell_type": "code",
   "execution_count": 24,
   "metadata": {
    "collapsed": false
   },
   "outputs": [
    {
     "name": "stdout",
     "output_type": "stream",
     "text": [
      "Random Forest: Best parameters set found on development set:\n",
      "{'min_samples_split': 50, 'n_estimators': 60, 'criterion': 'entropy'}\n"
     ]
    }
   ],
   "source": [
    "RF_param = {\n",
    "    \"n_estimators\": [60,70,80,90],\n",
    "    \"criterion\": [\"entropy\",\"gini\"],\n",
    "    \"min_samples_split\": [10,50,100],\n",
    "}\n",
    "RF = RandomForestClassifier(n_jobs=-1, random_state = 1)\n",
    "RF_grid = GridSearchCV(RF, RF_param, cv=5)\n",
    "RF_grid.fit(x_train, y_train)\n",
    "print(\"Random Forest: Best parameters set found on development set:\")  \n",
    "print(RF_grid.best_params_)"
   ]
  },
  {
   "cell_type": "code",
   "execution_count": 25,
   "metadata": {
    "collapsed": false
   },
   "outputs": [
    {
     "name": "stdout",
     "output_type": "stream",
     "text": [
      "Training DataSet Score: 0.774653\n",
      "Testing DataSet Score: 0.752709\n"
     ]
    }
   ],
   "source": [
    "RandomForestModel = RandomForestClassifier(min_samples_split=100, n_estimators=70, criterion='gini')\n",
    "RandomForestModel.fit(x_train, y_train)\n",
    "print(\"Training DataSet Score: %f\" % (RandomForestModel.score(x_train, y_train)))\n",
    "print(\"Testing DataSet Score: %f\" % (RandomForestModel.score(x_test, y_test)))"
   ]
  },
  {
   "cell_type": "markdown",
   "metadata": {},
   "source": [
    "The top 5 features to determine the churn activities are:"
   ]
  },
  {
   "cell_type": "code",
   "execution_count": 26,
   "metadata": {
    "collapsed": false
   },
   "outputs": [
    {
     "data": {
      "text/plain": [
       "['play_1', 'play_7', 'play_14', 'search_7', 'search_14']"
      ]
     },
     "execution_count": 26,
     "metadata": {},
     "output_type": "execute_result"
    }
   ],
   "source": [
    "get_top_values(RandomForestModel.feature_importances_, 5, feature_names)"
   ]
  },
  {
   "cell_type": "markdown",
   "metadata": {},
   "source": [
    "### Gradient Boosting Decision Tree"
   ]
  },
  {
   "cell_type": "code",
   "execution_count": 27,
   "metadata": {
    "collapsed": true
   },
   "outputs": [],
   "source": [
    "from sklearn.ensemble import GradientBoostingClassifier  #GBM algorithm\n",
    "from sklearn import cross_validation, metrics   #Additional scklearn functions\n",
    "import matplotlib.pylab as plt\n",
    "%matplotlib inline\n",
    "from matplotlib.pylab import rcParams\n",
    "rcParams['figure.figsize'] = 12, 4\n",
    "def modelfit(alg, x_train, y_train, names, performCV=True, printFeatureImportance=True, cv_folds=5):\n",
    "    #Fit the algorithm on the data\n",
    "    alg.fit(x_train, y_train)\n",
    "        \n",
    "    #Predict training set:\n",
    "    y_predictions = alg.predict(x_train)\n",
    "    y_predprob = alg.predict_proba(x_train)[:,1]\n",
    "    \n",
    "    #Perform cross-validation:\n",
    "    if performCV:\n",
    "        cv_score = cross_validation.cross_val_score(alg, x_train, y_train, cv=cv_folds, scoring='roc_auc')\n",
    "    \n",
    "    #Print model report:\n",
    "    print \"\\nModel Report\"\n",
    "    print \"Accuracy : %.4g\" % metrics.accuracy_score(y_train, y_predictions)\n",
    "    print \"AUC Score (Train): %f\" % metrics.roc_auc_score(y_train, y_predprob)\n",
    "    \n",
    "    if performCV:\n",
    "        print \"CV Score : Mean - %.7g | Std - %.7g | Min - %.7g | Max - %.7g\" % (np.mean(cv_score),np.std(cv_score),np.min(cv_score),np.max(cv_score))\n",
    "        \n",
    "    #Print Feature Importance:\n",
    "    if printFeatureImportance:\n",
    "        feat_imp = pd.Series(alg.feature_importances_, names).sort_values(ascending=False)\n",
    "        feat_imp.plot(kind='bar', title='Feature Importances')\n",
    "        plt.ylabel('Feature Importance Score')"
   ]
  },
  {
   "cell_type": "code",
   "execution_count": 28,
   "metadata": {
    "collapsed": false
   },
   "outputs": [
    {
     "name": "stdout",
     "output_type": "stream",
     "text": [
      "\n",
      "Model Report\n",
      "Accuracy : 0.7472\n",
      "AUC Score (Train): 0.825511\n",
      "CV Score : Mean - 0.8244814 | Std - 0.002464678 | Min - 0.820914 | Max - 0.827516\n"
     ]
    },
    {
     "data": {
      "image/png": "[encoded data removed]",
      "text/plain": [
       "<matplotlib.figure.Figure at 0x116835b10>"
      ]
     },
     "metadata": {},
     "output_type": "display_data"
    }
   ],
   "source": [
    "gbm = GradientBoostingClassifier(random_state=1)\n",
    "modelfit(gbm, x_train, y_train, feature_names)"
   ]
  },
  {
   "cell_type": "code",
   "execution_count": 29,
   "metadata": {
    "collapsed": false
   },
   "outputs": [
    {
     "name": "stdout",
     "output_type": "stream",
     "text": [
      "Training DataSet Score: 0.747219\n",
      "Testing DataSet Score: 0.745969\n"
     ]
    }
   ],
   "source": [
    "print(\"Training DataSet Score: %f\" % (gbm.score(x_train, y_train)))\n",
    "print(\"Testing DataSet Score: %f\" % (gbm.score(x_test, y_test)))"
   ]
  },
  {
   "cell_type": "code",
   "execution_count": 40,
   "metadata": {
    "collapsed": false
   },
   "outputs": [
    {
     "data": {
      "text/plain": [
       "GridSearchCV(cv=5, error_score='raise',\n",
       "       estimator=GradientBoostingClassifier(criterion='friedman_mse', init=None,\n",
       "              learning_rate=0.1, loss='deviance', max_depth=8,\n",
       "              max_features='sqrt', max_leaf_nodes=None,\n",
       "              min_impurity_split=1e-07, min_samples_leaf=50,\n",
       "              min_samples_split=500, min_weight_fraction_leaf=0.0,\n",
       "              n_estimators=100, presort='auto', random_state=10,\n",
       "              subsample=0.8, verbose=0, warm_start=False),\n",
       "       fit_params={}, iid=False, n_jobs=4,\n",
       "       param_grid={'n_estimators': [300, 400, 500, 600, 700, 800, 900]},\n",
       "       pre_dispatch='2*n_jobs', refit=True, return_train_score=True,\n",
       "       scoring='roc_auc', verbose=0)"
      ]
     },
     "execution_count": 40,
     "metadata": {},
     "output_type": "execute_result"
    }
   ],
   "source": [
    "param_test1 = {'n_estimators':range(300, 1000 ,100)}\n",
    "gsearch1 = GridSearchCV(\n",
    "    estimator = GradientBoostingClassifier(learning_rate=0.1, min_samples_split=500,min_samples_leaf=50,max_depth=8,max_features='sqrt',subsample=0.8,random_state=10), \n",
    "    param_grid = param_test1, scoring='roc_auc',n_jobs=4,iid=False, cv=5)\n",
    "gsearch1.fit(x_train,y_train)"
   ]
  },
  {
   "cell_type": "code",
   "execution_count": 41,
   "metadata": {
    "collapsed": false
   },
   "outputs": [
    {
     "name": "stdout",
     "output_type": "stream",
     "text": [
      "[mean: 0.83009, std: 0.00244, params: {'n_estimators': 300}, mean: 0.83011, std: 0.00248, params: {'n_estimators': 400}, mean: 0.83002, std: 0.00256, params: {'n_estimators': 500}, mean: 0.82978, std: 0.00253, params: {'n_estimators': 600}, mean: 0.82951, std: 0.00258, params: {'n_estimators': 700}, mean: 0.82932, std: 0.00257, params: {'n_estimators': 800}, mean: 0.82907, std: 0.00257, params: {'n_estimators': 900}]\n",
      "Best Parameter: {'n_estimators': 400}\n",
      "Best Score: 0.830114\n"
     ]
    },
    {
     "name": "stderr",
     "output_type": "stream",
     "text": [
      "/usr/local/lib/python2.7/site-packages/sklearn/model_selection/_search.py:667: DeprecationWarning: The grid_scores_ attribute was deprecated in version 0.18 in favor of the more elaborate cv_results_ attribute. The grid_scores_ attribute will not be available from 0.20\n",
      "  DeprecationWarning)\n"
     ]
    }
   ],
   "source": [
    "print(gsearch1.grid_scores_)\n",
    "print('Best Parameter: %s' % gsearch1.best_params_)\n",
    "print('Best Score: %f' % gsearch1.best_score_)"
   ]
  },
  {
   "cell_type": "code",
   "execution_count": 42,
   "metadata": {
    "collapsed": false,
    "scrolled": true
   },
   "outputs": [
    {
     "data": {
      "text/plain": [
       "GridSearchCV(cv=5, error_score='raise',\n",
       "       estimator=GradientBoostingClassifier(criterion='friedman_mse', init=None,\n",
       "              learning_rate=0.1, loss='deviance', max_depth=3,\n",
       "              max_features='sqrt', max_leaf_nodes=None,\n",
       "              min_impurity_split=1e-07, min_samples_leaf=1,\n",
       "              min_samples_split=2, min_weight_fraction_leaf=0.0,\n",
       "              n_estimators=400, presort='auto', random_state=10,\n",
       "              subsample=0.8, verbose=0, warm_start=False),\n",
       "       fit_params={}, iid=False, n_jobs=4,\n",
       "       param_grid={'min_samples_split': [200, 400, 600, 800, 1000], 'max_depth': [5, 7, 9, 11, 13, 15]},\n",
       "       pre_dispatch='2*n_jobs', refit=True, return_train_score=True,\n",
       "       scoring='roc_auc', verbose=0)"
      ]
     },
     "execution_count": 42,
     "metadata": {},
     "output_type": "execute_result"
    }
   ],
   "source": [
    "param_test2 = {'max_depth':range(5,16,2), 'min_samples_split':range(200,1001,200)}\n",
    "gsearch2 = GridSearchCV(estimator = GradientBoostingClassifier(learning_rate=0.1, n_estimators=400, max_features='sqrt', subsample=0.8, random_state=10), \n",
    "param_grid = param_test2, scoring='roc_auc',n_jobs=4,iid=False, cv=5)\n",
    "gsearch2.fit(x_train,y_train)"
   ]
  },
  {
   "cell_type": "code",
   "execution_count": 43,
   "metadata": {
    "collapsed": false
   },
   "outputs": [
    {
     "name": "stdout",
     "output_type": "stream",
     "text": [
      "[mean: 0.82828, std: 0.00247, params: {'min_samples_split': 200, 'max_depth': 5}, mean: 0.82846, std: 0.00250, params: {'min_samples_split': 400, 'max_depth': 5}, mean: 0.82829, std: 0.00237, params: {'min_samples_split': 600, 'max_depth': 5}, mean: 0.82841, std: 0.00241, params: {'min_samples_split': 800, 'max_depth': 5}, mean: 0.82837, std: 0.00234, params: {'min_samples_split': 1000, 'max_depth': 5}, mean: 0.82955, std: 0.00257, params: {'min_samples_split': 200, 'max_depth': 7}, mean: 0.82958, std: 0.00266, params: {'min_samples_split': 400, 'max_depth': 7}, mean: 0.82970, std: 0.00247, params: {'min_samples_split': 600, 'max_depth': 7}, mean: 0.82970, std: 0.00250, params: {'min_samples_split': 800, 'max_depth': 7}, mean: 0.82969, std: 0.00244, params: {'min_samples_split': 1000, 'max_depth': 7}, mean: 0.82939, std: 0.00253, params: {'min_samples_split': 200, 'max_depth': 9}, mean: 0.82978, std: 0.00254, params: {'min_samples_split': 400, 'max_depth': 9}, mean: 0.82992, std: 0.00248, params: {'min_samples_split': 600, 'max_depth': 9}, mean: 0.83028, std: 0.00237, params: {'min_samples_split': 800, 'max_depth': 9}, mean: 0.83023, std: 0.00243, params: {'min_samples_split': 1000, 'max_depth': 9}, mean: 0.82810, std: 0.00225, params: {'min_samples_split': 200, 'max_depth': 11}, mean: 0.82919, std: 0.00221, params: {'min_samples_split': 400, 'max_depth': 11}, mean: 0.82946, std: 0.00243, params: {'min_samples_split': 600, 'max_depth': 11}, mean: 0.82995, std: 0.00257, params: {'min_samples_split': 800, 'max_depth': 11}, mean: 0.83009, std: 0.00244, params: {'min_samples_split': 1000, 'max_depth': 11}, mean: 0.82648, std: 0.00250, params: {'min_samples_split': 200, 'max_depth': 13}, mean: 0.82816, std: 0.00239, params: {'min_samples_split': 400, 'max_depth': 13}, mean: 0.82865, std: 0.00225, params: {'min_samples_split': 600, 'max_depth': 13}, mean: 0.82926, std: 0.00240, params: {'min_samples_split': 800, 'max_depth': 13}, mean: 0.82958, std: 0.00234, params: {'min_samples_split': 1000, 'max_depth': 13}, mean: 0.82462, std: 0.00237, params: {'min_samples_split': 200, 'max_depth': 15}, mean: 0.82687, std: 0.00259, params: {'min_samples_split': 400, 'max_depth': 15}, mean: 0.82809, std: 0.00227, params: {'min_samples_split': 600, 'max_depth': 15}, mean: 0.82858, std: 0.00226, params: {'min_samples_split': 800, 'max_depth': 15}, mean: 0.82892, std: 0.00252, params: {'min_samples_split': 1000, 'max_depth': 15}]\n",
      "Best Parameter: {'min_samples_split': 800, 'max_depth': 9}\n",
      "Best Score: 0.830280\n"
     ]
    },
    {
     "name": "stderr",
     "output_type": "stream",
     "text": [
      "/usr/local/lib/python2.7/site-packages/sklearn/model_selection/_search.py:667: DeprecationWarning: The grid_scores_ attribute was deprecated in version 0.18 in favor of the more elaborate cv_results_ attribute. The grid_scores_ attribute will not be available from 0.20\n",
      "  DeprecationWarning)\n"
     ]
    }
   ],
   "source": [
    "print(gsearch2.grid_scores_)\n",
    "print('Best Parameter: %s' % gsearch2.best_params_)\n",
    "print('Best Score: %f' % gsearch2.best_score_)"
   ]
  },
  {
   "cell_type": "code",
   "execution_count": 44,
   "metadata": {
    "collapsed": false
   },
   "outputs": [
    {
     "data": {
      "text/plain": [
       "GridSearchCV(cv=5, error_score='raise',\n",
       "       estimator=GradientBoostingClassifier(criterion='friedman_mse', init=None,\n",
       "              learning_rate=0.1, loss='deviance', max_depth=9,\n",
       "              max_features='sqrt', max_leaf_nodes=None,\n",
       "              min_impurity_split=1e-07, min_samples_leaf=1,\n",
       "              min_samples_split=800, min_weight_fraction_leaf=0.0,\n",
       "              n_estimators=400, presort='auto', random_state=10,\n",
       "              subsample=0.8, verbose=0, warm_start=False),\n",
       "       fit_params={}, iid=False, n_jobs=4,\n",
       "       param_grid={'min_samples_leaf': [100, 110, 120, 130, 140, 150]},\n",
       "       pre_dispatch='2*n_jobs', refit=True, return_train_score=True,\n",
       "       scoring='roc_auc', verbose=0)"
      ]
     },
     "execution_count": 44,
     "metadata": {},
     "output_type": "execute_result"
    }
   ],
   "source": [
    "param_test3 = {'min_samples_leaf':range(100,151,10)}\n",
    "gsearch3 = GridSearchCV(estimator = GradientBoostingClassifier(learning_rate=0.1, n_estimators=400,max_depth=9,min_samples_split=800,max_features='sqrt', subsample=0.8, random_state=10), \n",
    "param_grid = param_test3, scoring='roc_auc',n_jobs=4,iid=False, cv=5)\n",
    "gsearch3.fit(x_train,y_train)"
   ]
  },
  {
   "cell_type": "code",
   "execution_count": 45,
   "metadata": {
    "collapsed": false
   },
   "outputs": [
    {
     "name": "stdout",
     "output_type": "stream",
     "text": [
      "[mean: 0.83034, std: 0.00235, params: {'min_samples_leaf': 100}, mean: 0.83036, std: 0.00256, params: {'min_samples_leaf': 110}, mean: 0.83045, std: 0.00260, params: {'min_samples_leaf': 120}, mean: 0.83050, std: 0.00259, params: {'min_samples_leaf': 130}, mean: 0.83027, std: 0.00249, params: {'min_samples_leaf': 140}, mean: 0.83029, std: 0.00255, params: {'min_samples_leaf': 150}]\n",
      "Best Parameter: {'min_samples_leaf': 130}\n",
      "Best Score: 0.830502\n"
     ]
    },
    {
     "name": "stderr",
     "output_type": "stream",
     "text": [
      "/usr/local/lib/python2.7/site-packages/sklearn/model_selection/_search.py:667: DeprecationWarning: The grid_scores_ attribute was deprecated in version 0.18 in favor of the more elaborate cv_results_ attribute. The grid_scores_ attribute will not be available from 0.20\n",
      "  DeprecationWarning)\n"
     ]
    }
   ],
   "source": [
    "print(gsearch3.grid_scores_)\n",
    "print('Best Parameter: %s' % gsearch3.best_params_)\n",
    "print('Best Score: %f' % gsearch3.best_score_)"
   ]
  },
  {
   "cell_type": "code",
   "execution_count": 48,
   "metadata": {
    "collapsed": false
   },
   "outputs": [
    {
     "data": {
      "text/plain": [
       "GridSearchCV(cv=5, error_score='raise',\n",
       "       estimator=GradientBoostingClassifier(criterion='friedman_mse', init=None,\n",
       "              learning_rate=0.1, loss='deviance', max_depth=9,\n",
       "              max_features=None, max_leaf_nodes=None,\n",
       "              min_impurity_split=1e-07, min_samples_leaf=130,\n",
       "              min_samples_split=800, min_weight_fraction_leaf=0.0,\n",
       "              n_estimators=400, presort='auto', random_state=10,\n",
       "              subsample=1.0, verbose=0, warm_start=False),\n",
       "       fit_params={}, iid=False, n_jobs=4,\n",
       "       param_grid={'subsample': [0.85, 0.9, 0.95, 1]},\n",
       "       pre_dispatch='2*n_jobs', refit=True, return_train_score=True,\n",
       "       scoring='roc_auc', verbose=0)"
      ]
     },
     "execution_count": 48,
     "metadata": {},
     "output_type": "execute_result"
    }
   ],
   "source": [
    "param_test4 = {'subsample':[0.85,0.9, 0.95,1]}\n",
    "gsearch4 = GridSearchCV(estimator = GradientBoostingClassifier(learning_rate=0.1, n_estimators=400,max_depth=9, min_samples_split=800, min_samples_leaf=130, random_state=10),\n",
    "param_grid = param_test4, scoring='roc_auc',n_jobs=4,iid=False, cv=5)\n",
    "gsearch4.fit(x_train,y_train)"
   ]
  },
  {
   "cell_type": "code",
   "execution_count": 49,
   "metadata": {
    "collapsed": false
   },
   "outputs": [
    {
     "name": "stdout",
     "output_type": "stream",
     "text": [
      "[mean: 0.83043, std: 0.00262, params: {'subsample': 0.85}, mean: 0.83059, std: 0.00259, params: {'subsample': 0.9}, mean: 0.83063, std: 0.00256, params: {'subsample': 0.95}, mean: 0.83056, std: 0.00266, params: {'subsample': 1}]\n",
      "Best Parameter: {'subsample': 0.95}\n",
      "Best Score: 0.830631\n"
     ]
    },
    {
     "name": "stderr",
     "output_type": "stream",
     "text": [
      "/usr/local/lib/python2.7/site-packages/sklearn/model_selection/_search.py:667: DeprecationWarning: The grid_scores_ attribute was deprecated in version 0.18 in favor of the more elaborate cv_results_ attribute. The grid_scores_ attribute will not be available from 0.20\n",
      "  DeprecationWarning)\n"
     ]
    }
   ],
   "source": [
    "print(gsearch4.grid_scores_)\n",
    "print('Best Parameter: %s' % gsearch4.best_params_)\n",
    "print('Best Score: %f' % gsearch4.best_score_)"
   ]
  },
  {
   "cell_type": "code",
   "execution_count": 50,
   "metadata": {
    "collapsed": false
   },
   "outputs": [
    {
     "data": {
      "text/plain": [
       "GridSearchCV(cv=5, error_score='raise',\n",
       "       estimator=GradientBoostingClassifier(criterion='friedman_mse', init=None,\n",
       "              learning_rate=0.1, loss='deviance', max_depth=9,\n",
       "              max_features=None, max_leaf_nodes=None,\n",
       "              min_impurity_split=1e-07, min_samples_leaf=130,\n",
       "              min_samples_split=800, min_weight_fraction_leaf=0.0,\n",
       "              n_estimators=400, presort='auto', random_state=10,\n",
       "              subsample=0.95, verbose=0, warm_start=False),\n",
       "       fit_params={}, iid=False, n_jobs=4,\n",
       "       param_grid={'learning_rate': [0.1, 0.05, 0.01, 0.005, 0.001]},\n",
       "       pre_dispatch='2*n_jobs', refit=True, return_train_score=True,\n",
       "       scoring='roc_auc', verbose=0)"
      ]
     },
     "execution_count": 50,
     "metadata": {},
     "output_type": "execute_result"
    }
   ],
   "source": [
    "param_test5 = {'learning_rate':[0.1,0.05,0.01,0.005,0.001]}\n",
    "gsearch5 = GridSearchCV(estimator = GradientBoostingClassifier(n_estimators=400,max_depth=9, min_samples_split=800, min_samples_leaf=130, subsample=0.95,random_state=10),\n",
    "param_grid = param_test5, scoring='roc_auc',n_jobs=4,iid=False, cv=5)\n",
    "gsearch5.fit(x_train,y_train)"
   ]
  },
  {
   "cell_type": "code",
   "execution_count": 51,
   "metadata": {
    "collapsed": false
   },
   "outputs": [
    {
     "name": "stdout",
     "output_type": "stream",
     "text": [
      "[mean: 0.83063, std: 0.00256, params: {'learning_rate': 0.1}, mean: 0.83101, std: 0.00251, params: {'learning_rate': 0.05}, mean: 0.83018, std: 0.00238, params: {'learning_rate': 0.01}, mean: 0.82950, std: 0.00242, params: {'learning_rate': 0.005}, mean: 0.82771, std: 0.00242, params: {'learning_rate': 0.001}]\n",
      "Best Parameter: {'learning_rate': 0.05}\n",
      "Best Score: 0.831008\n"
     ]
    },
    {
     "name": "stderr",
     "output_type": "stream",
     "text": [
      "/usr/local/lib/python2.7/site-packages/sklearn/model_selection/_search.py:667: DeprecationWarning: The grid_scores_ attribute was deprecated in version 0.18 in favor of the more elaborate cv_results_ attribute. The grid_scores_ attribute will not be available from 0.20\n",
      "  DeprecationWarning)\n"
     ]
    }
   ],
   "source": [
    "print(gsearch5.grid_scores_)\n",
    "print('Best Parameter: %s' % gsearch5.best_params_)\n",
    "print('Best Score: %f' % gsearch5.best_score_)"
   ]
  },
  {
   "cell_type": "code",
   "execution_count": 52,
   "metadata": {
    "collapsed": false
   },
   "outputs": [
    {
     "name": "stdout",
     "output_type": "stream",
     "text": [
      "\n",
      "Model Report\n",
      "Accuracy : 0.7624\n",
      "AUC Score (Train): 0.842552\n",
      "CV Score : Mean - 0.8310077 | Std - 0.002508782 | Min - 0.8278417 | Max - 0.8340276\n"
     ]
    },
    {
     "data": {
      "image/png": "[encoded data removed]",
      "text/plain": [
       "<matplotlib.figure.Figure at 0x10a4d2610>"
      ]
     },
     "metadata": {},
     "output_type": "display_data"
    }
   ],
   "source": [
    "gbm = GradientBoostingClassifier(learning_rate = 0.05, n_estimators=400,max_depth=9, min_samples_split=800, min_samples_leaf=130, subsample=0.95,random_state=10)\n",
    "modelfit(gbm, x_train, y_train, feature_names)"
   ]
  },
  {
   "cell_type": "code",
   "execution_count": 53,
   "metadata": {
    "collapsed": false
   },
   "outputs": [
    {
     "name": "stdout",
     "output_type": "stream",
     "text": [
      "Training DataSet Score: 0.762373\n",
      "Testing DataSet Score: 0.751305\n"
     ]
    }
   ],
   "source": [
    "print(\"Training DataSet Score: %f\" % (gbm.score(x_train, y_train)))\n",
    "print(\"Testing DataSet Score: %f\" % (gbm.score(x_test, y_test)))"
   ]
  },
  {
   "cell_type": "code",
   "execution_count": null,
   "metadata": {
    "collapsed": true
   },
   "outputs": [],
   "source": []
  }
 ],
 "metadata": {
  "kernelspec": {
   "display_name": "Python 2",
   "language": "python",
   "name": "python2"
  },
  "language_info": {
   "codemirror_mode": {
    "name": "ipython",
    "version": 2
   },
   "file_extension": ".py",
   "mimetype": "text/x-python",
   "name": "python",
   "nbconvert_exporter": "python",
   "pygments_lexer": "ipython2",
   "version": "2.7.12"
  }
 },
 "nbformat": 4,
 "nbformat_minor": 1
}
