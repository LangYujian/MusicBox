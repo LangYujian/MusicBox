{
 "cells": [
  {
   "cell_type": "code",
   "execution_count": 15,
   "metadata": {
    "collapsed": true
   },
   "outputs": [],
   "source": [
    "import pandas as pd\n",
    "import numpy as np"
   ]
  },
  {
   "cell_type": "markdown",
   "metadata": {},
   "source": [
    "### Use the generated feature file as the input for the model construction"
   ]
  },
  {
   "cell_type": "code",
   "execution_count": 16,
   "metadata": {
    "collapsed": false
   },
   "outputs": [
    {
     "data": {
      "text/html": [
       "<div>\n",
       "<style>\n",
       "    .dataframe thead tr:only-child th {\n",
       "        text-align: right;\n",
       "    }\n",
       "\n",
       "    .dataframe thead th {\n",
       "        text-align: left;\n",
       "    }\n",
       "\n",
       "    .dataframe tbody tr th {\n",
       "        vertical-align: top;\n",
       "    }\n",
       "</style>\n",
       "<table border=\"1\" class=\"dataframe\">\n",
       "  <thead>\n",
       "    <tr style=\"text-align: right;\">\n",
       "      <th></th>\n",
       "      <th>user_id</th>\n",
       "      <th>phone</th>\n",
       "      <th>search_1</th>\n",
       "      <th>search_7</th>\n",
       "      <th>search_14</th>\n",
       "      <th>play_1</th>\n",
       "      <th>play_7</th>\n",
       "      <th>play_14</th>\n",
       "      <th>down_1</th>\n",
       "      <th>down_7</th>\n",
       "      <th>down_14</th>\n",
       "      <th>churn</th>\n",
       "    </tr>\n",
       "  </thead>\n",
       "  <tbody>\n",
       "    <tr>\n",
       "      <th>0</th>\n",
       "      <td>167591585</td>\n",
       "      <td>ar</td>\n",
       "      <td>0</td>\n",
       "      <td>0</td>\n",
       "      <td>0</td>\n",
       "      <td>0</td>\n",
       "      <td>0</td>\n",
       "      <td>0</td>\n",
       "      <td>0</td>\n",
       "      <td>0</td>\n",
       "      <td>0</td>\n",
       "      <td>1</td>\n",
       "    </tr>\n",
       "    <tr>\n",
       "      <th>1</th>\n",
       "      <td>168134533</td>\n",
       "      <td>ar</td>\n",
       "      <td>0</td>\n",
       "      <td>4</td>\n",
       "      <td>10</td>\n",
       "      <td>22</td>\n",
       "      <td>36</td>\n",
       "      <td>70</td>\n",
       "      <td>0</td>\n",
       "      <td>0</td>\n",
       "      <td>1</td>\n",
       "      <td>0</td>\n",
       "    </tr>\n",
       "    <tr>\n",
       "      <th>2</th>\n",
       "      <td>167891787</td>\n",
       "      <td>ar</td>\n",
       "      <td>0</td>\n",
       "      <td>0</td>\n",
       "      <td>0</td>\n",
       "      <td>28</td>\n",
       "      <td>44</td>\n",
       "      <td>71</td>\n",
       "      <td>0</td>\n",
       "      <td>0</td>\n",
       "      <td>0</td>\n",
       "      <td>0</td>\n",
       "    </tr>\n",
       "  </tbody>\n",
       "</table>\n",
       "</div>"
      ],
      "text/plain": [
       "     user_id phone  search_1  search_7  search_14  play_1  play_7  play_14  \\\n",
       "0  167591585    ar         0         0          0       0       0        0   \n",
       "1  168134533    ar         0         4         10      22      36       70   \n",
       "2  167891787    ar         0         0          0      28      44       71   \n",
       "\n",
       "   down_1  down_7  down_14  churn  \n",
       "0       0       0        0      1  \n",
       "1       0       0        1      0  \n",
       "2       0       0        0      0  "
      ]
     },
     "execution_count": 16,
     "metadata": {},
     "output_type": "execute_result"
    }
   ],
   "source": [
    "df = pd.read_csv('generate.csv')\n",
    "df.head(3)"
   ]
  },
  {
   "cell_type": "code",
   "execution_count": 17,
   "metadata": {
    "collapsed": false
   },
   "outputs": [
    {
     "data": {
      "text/html": [
       "<div>\n",
       "<style>\n",
       "    .dataframe thead tr:only-child th {\n",
       "        text-align: right;\n",
       "    }\n",
       "\n",
       "    .dataframe thead th {\n",
       "        text-align: left;\n",
       "    }\n",
       "\n",
       "    .dataframe tbody tr th {\n",
       "        vertical-align: top;\n",
       "    }\n",
       "</style>\n",
       "<table border=\"1\" class=\"dataframe\">\n",
       "  <thead>\n",
       "    <tr style=\"text-align: right;\">\n",
       "      <th></th>\n",
       "      <th>phone</th>\n",
       "      <th>search_1</th>\n",
       "      <th>search_7</th>\n",
       "      <th>search_14</th>\n",
       "      <th>play_1</th>\n",
       "      <th>play_7</th>\n",
       "      <th>play_14</th>\n",
       "      <th>down_1</th>\n",
       "      <th>down_7</th>\n",
       "      <th>down_14</th>\n",
       "      <th>churn</th>\n",
       "    </tr>\n",
       "  </thead>\n",
       "  <tbody>\n",
       "    <tr>\n",
       "      <th>0</th>\n",
       "      <td>ar</td>\n",
       "      <td>0</td>\n",
       "      <td>0</td>\n",
       "      <td>0</td>\n",
       "      <td>0</td>\n",
       "      <td>0</td>\n",
       "      <td>0</td>\n",
       "      <td>0</td>\n",
       "      <td>0</td>\n",
       "      <td>0</td>\n",
       "      <td>1</td>\n",
       "    </tr>\n",
       "    <tr>\n",
       "      <th>1</th>\n",
       "      <td>ar</td>\n",
       "      <td>0</td>\n",
       "      <td>4</td>\n",
       "      <td>10</td>\n",
       "      <td>22</td>\n",
       "      <td>36</td>\n",
       "      <td>70</td>\n",
       "      <td>0</td>\n",
       "      <td>0</td>\n",
       "      <td>1</td>\n",
       "      <td>0</td>\n",
       "    </tr>\n",
       "    <tr>\n",
       "      <th>2</th>\n",
       "      <td>ar</td>\n",
       "      <td>0</td>\n",
       "      <td>0</td>\n",
       "      <td>0</td>\n",
       "      <td>28</td>\n",
       "      <td>44</td>\n",
       "      <td>71</td>\n",
       "      <td>0</td>\n",
       "      <td>0</td>\n",
       "      <td>0</td>\n",
       "      <td>0</td>\n",
       "    </tr>\n",
       "  </tbody>\n",
       "</table>\n",
       "</div>"
      ],
      "text/plain": [
       "  phone  search_1  search_7  search_14  play_1  play_7  play_14  down_1  \\\n",
       "0    ar         0         0          0       0       0        0       0   \n",
       "1    ar         0         4         10      22      36       70       0   \n",
       "2    ar         0         0          0      28      44       71       0   \n",
       "\n",
       "   down_7  down_14  churn  \n",
       "0       0        0      1  \n",
       "1       0        1      0  \n",
       "2       0        0      0  "
      ]
     },
     "execution_count": 17,
     "metadata": {},
     "output_type": "execute_result"
    }
   ],
   "source": [
    "df_feature = df.drop('user_id', axis = 1)\n",
    "df_feature.head(3)"
   ]
  },
  {
   "cell_type": "code",
   "execution_count": 18,
   "metadata": {
    "collapsed": false
   },
   "outputs": [
    {
     "data": {
      "text/html": [
       "<div>\n",
       "<style>\n",
       "    .dataframe thead tr:only-child th {\n",
       "        text-align: right;\n",
       "    }\n",
       "\n",
       "    .dataframe thead th {\n",
       "        text-align: left;\n",
       "    }\n",
       "\n",
       "    .dataframe tbody tr th {\n",
       "        vertical-align: top;\n",
       "    }\n",
       "</style>\n",
       "<table border=\"1\" class=\"dataframe\">\n",
       "  <thead>\n",
       "    <tr style=\"text-align: right;\">\n",
       "      <th></th>\n",
       "      <th>search_1</th>\n",
       "      <th>search_7</th>\n",
       "      <th>search_14</th>\n",
       "      <th>play_1</th>\n",
       "      <th>play_7</th>\n",
       "      <th>play_14</th>\n",
       "      <th>down_1</th>\n",
       "      <th>down_7</th>\n",
       "      <th>down_14</th>\n",
       "      <th>churn</th>\n",
       "    </tr>\n",
       "  </thead>\n",
       "  <tbody>\n",
       "    <tr>\n",
       "      <th>0</th>\n",
       "      <td>0</td>\n",
       "      <td>0</td>\n",
       "      <td>0</td>\n",
       "      <td>0</td>\n",
       "      <td>0</td>\n",
       "      <td>0</td>\n",
       "      <td>0</td>\n",
       "      <td>0</td>\n",
       "      <td>0</td>\n",
       "      <td>1</td>\n",
       "    </tr>\n",
       "    <tr>\n",
       "      <th>1</th>\n",
       "      <td>0</td>\n",
       "      <td>4</td>\n",
       "      <td>10</td>\n",
       "      <td>22</td>\n",
       "      <td>36</td>\n",
       "      <td>70</td>\n",
       "      <td>0</td>\n",
       "      <td>0</td>\n",
       "      <td>1</td>\n",
       "      <td>0</td>\n",
       "    </tr>\n",
       "    <tr>\n",
       "      <th>2</th>\n",
       "      <td>0</td>\n",
       "      <td>0</td>\n",
       "      <td>0</td>\n",
       "      <td>28</td>\n",
       "      <td>44</td>\n",
       "      <td>71</td>\n",
       "      <td>0</td>\n",
       "      <td>0</td>\n",
       "      <td>0</td>\n",
       "      <td>0</td>\n",
       "    </tr>\n",
       "  </tbody>\n",
       "</table>\n",
       "</div>"
      ],
      "text/plain": [
       "   search_1  search_7  search_14  play_1  play_7  play_14  down_1  down_7  \\\n",
       "0         0         0          0       0       0        0       0       0   \n",
       "1         0         4         10      22      36       70       0       0   \n",
       "2         0         0          0      28      44       71       0       0   \n",
       "\n",
       "   down_14  churn  \n",
       "0        0      1  \n",
       "1        1      0  \n",
       "2        0      0  "
      ]
     },
     "execution_count": 18,
     "metadata": {},
     "output_type": "execute_result"
    }
   ],
   "source": [
    "df_phone = pd.get_dummies(df_feature['phone'])\n",
    "del df_feature['phone']\n",
    "df_feature.head(3)"
   ]
  },
  {
   "cell_type": "code",
   "execution_count": 19,
   "metadata": {
    "collapsed": false
   },
   "outputs": [
    {
     "data": {
      "text/html": [
       "<div>\n",
       "<style>\n",
       "    .dataframe thead tr:only-child th {\n",
       "        text-align: right;\n",
       "    }\n",
       "\n",
       "    .dataframe thead th {\n",
       "        text-align: left;\n",
       "    }\n",
       "\n",
       "    .dataframe tbody tr th {\n",
       "        vertical-align: top;\n",
       "    }\n",
       "</style>\n",
       "<table border=\"1\" class=\"dataframe\">\n",
       "  <thead>\n",
       "    <tr style=\"text-align: right;\">\n",
       "      <th></th>\n",
       "      <th>search_1</th>\n",
       "      <th>search_7</th>\n",
       "      <th>search_14</th>\n",
       "      <th>play_1</th>\n",
       "      <th>play_7</th>\n",
       "      <th>play_14</th>\n",
       "      <th>down_1</th>\n",
       "      <th>down_7</th>\n",
       "      <th>down_14</th>\n",
       "      <th>churn</th>\n",
       "      <th>ar</th>\n",
       "      <th>ip</th>\n",
       "      <th>mc</th>\n",
       "      <th>wp</th>\n",
       "    </tr>\n",
       "  </thead>\n",
       "  <tbody>\n",
       "    <tr>\n",
       "      <th>0</th>\n",
       "      <td>0</td>\n",
       "      <td>0</td>\n",
       "      <td>0</td>\n",
       "      <td>0</td>\n",
       "      <td>0</td>\n",
       "      <td>0</td>\n",
       "      <td>0</td>\n",
       "      <td>0</td>\n",
       "      <td>0</td>\n",
       "      <td>1</td>\n",
       "      <td>1</td>\n",
       "      <td>0</td>\n",
       "      <td>0</td>\n",
       "      <td>0</td>\n",
       "    </tr>\n",
       "    <tr>\n",
       "      <th>1</th>\n",
       "      <td>0</td>\n",
       "      <td>4</td>\n",
       "      <td>10</td>\n",
       "      <td>22</td>\n",
       "      <td>36</td>\n",
       "      <td>70</td>\n",
       "      <td>0</td>\n",
       "      <td>0</td>\n",
       "      <td>1</td>\n",
       "      <td>0</td>\n",
       "      <td>1</td>\n",
       "      <td>0</td>\n",
       "      <td>0</td>\n",
       "      <td>0</td>\n",
       "    </tr>\n",
       "    <tr>\n",
       "      <th>2</th>\n",
       "      <td>0</td>\n",
       "      <td>0</td>\n",
       "      <td>0</td>\n",
       "      <td>28</td>\n",
       "      <td>44</td>\n",
       "      <td>71</td>\n",
       "      <td>0</td>\n",
       "      <td>0</td>\n",
       "      <td>0</td>\n",
       "      <td>0</td>\n",
       "      <td>1</td>\n",
       "      <td>0</td>\n",
       "      <td>0</td>\n",
       "      <td>0</td>\n",
       "    </tr>\n",
       "  </tbody>\n",
       "</table>\n",
       "</div>"
      ],
      "text/plain": [
       "   search_1  search_7  search_14  play_1  play_7  play_14  down_1  down_7  \\\n",
       "0         0         0          0       0       0        0       0       0   \n",
       "1         0         4         10      22      36       70       0       0   \n",
       "2         0         0          0      28      44       71       0       0   \n",
       "\n",
       "   down_14  churn  ar  ip  mc  wp  \n",
       "0        0      1   1   0   0   0  \n",
       "1        1      0   1   0   0   0  \n",
       "2        0      0   1   0   0   0  "
      ]
     },
     "execution_count": 19,
     "metadata": {},
     "output_type": "execute_result"
    }
   ],
   "source": [
    "df_matrix = df_feature.join(df_phone)\n",
    "df_matrix.head(3)"
   ]
  },
  {
   "cell_type": "code",
   "execution_count": 20,
   "metadata": {
    "collapsed": false
   },
   "outputs": [
    {
     "data": {
      "text/html": [
       "<div>\n",
       "<style>\n",
       "    .dataframe thead tr:only-child th {\n",
       "        text-align: right;\n",
       "    }\n",
       "\n",
       "    .dataframe thead th {\n",
       "        text-align: left;\n",
       "    }\n",
       "\n",
       "    .dataframe tbody tr th {\n",
       "        vertical-align: top;\n",
       "    }\n",
       "</style>\n",
       "<table border=\"1\" class=\"dataframe\">\n",
       "  <thead>\n",
       "    <tr style=\"text-align: right;\">\n",
       "      <th></th>\n",
       "      <th>search_1</th>\n",
       "      <th>search_7</th>\n",
       "      <th>search_14</th>\n",
       "      <th>play_1</th>\n",
       "      <th>play_7</th>\n",
       "      <th>play_14</th>\n",
       "      <th>down_1</th>\n",
       "      <th>down_7</th>\n",
       "      <th>down_14</th>\n",
       "      <th>churn</th>\n",
       "      <th>...</th>\n",
       "      <th>search_ratio_14_1</th>\n",
       "      <th>play_down_ratio_1</th>\n",
       "      <th>play_down_ratio_7</th>\n",
       "      <th>play_down_ratio_14</th>\n",
       "      <th>play_search_ratio_1</th>\n",
       "      <th>play_search_ratio_7</th>\n",
       "      <th>play_search_ratio_14</th>\n",
       "      <th>search_down_ratio_1</th>\n",
       "      <th>search_down_ratio_7</th>\n",
       "      <th>search_down_ratio_14</th>\n",
       "    </tr>\n",
       "  </thead>\n",
       "  <tbody>\n",
       "    <tr>\n",
       "      <th>0</th>\n",
       "      <td>0</td>\n",
       "      <td>0</td>\n",
       "      <td>0</td>\n",
       "      <td>0</td>\n",
       "      <td>0</td>\n",
       "      <td>0</td>\n",
       "      <td>0</td>\n",
       "      <td>0</td>\n",
       "      <td>0</td>\n",
       "      <td>1</td>\n",
       "      <td>...</td>\n",
       "      <td>0.0</td>\n",
       "      <td>0.0</td>\n",
       "      <td>0.0</td>\n",
       "      <td>0.0</td>\n",
       "      <td>0.0</td>\n",
       "      <td>0.00</td>\n",
       "      <td>0.000000</td>\n",
       "      <td>0.0</td>\n",
       "      <td>0.0</td>\n",
       "      <td>0.0</td>\n",
       "    </tr>\n",
       "    <tr>\n",
       "      <th>1</th>\n",
       "      <td>0</td>\n",
       "      <td>4</td>\n",
       "      <td>10</td>\n",
       "      <td>22</td>\n",
       "      <td>36</td>\n",
       "      <td>70</td>\n",
       "      <td>0</td>\n",
       "      <td>0</td>\n",
       "      <td>1</td>\n",
       "      <td>0</td>\n",
       "      <td>...</td>\n",
       "      <td>10.0</td>\n",
       "      <td>22.0</td>\n",
       "      <td>36.0</td>\n",
       "      <td>35.0</td>\n",
       "      <td>22.0</td>\n",
       "      <td>7.20</td>\n",
       "      <td>6.363636</td>\n",
       "      <td>0.0</td>\n",
       "      <td>4.0</td>\n",
       "      <td>5.0</td>\n",
       "    </tr>\n",
       "    <tr>\n",
       "      <th>2</th>\n",
       "      <td>0</td>\n",
       "      <td>0</td>\n",
       "      <td>0</td>\n",
       "      <td>28</td>\n",
       "      <td>44</td>\n",
       "      <td>71</td>\n",
       "      <td>0</td>\n",
       "      <td>0</td>\n",
       "      <td>0</td>\n",
       "      <td>0</td>\n",
       "      <td>...</td>\n",
       "      <td>0.0</td>\n",
       "      <td>28.0</td>\n",
       "      <td>44.0</td>\n",
       "      <td>71.0</td>\n",
       "      <td>28.0</td>\n",
       "      <td>44.00</td>\n",
       "      <td>71.000000</td>\n",
       "      <td>0.0</td>\n",
       "      <td>0.0</td>\n",
       "      <td>0.0</td>\n",
       "    </tr>\n",
       "    <tr>\n",
       "      <th>3</th>\n",
       "      <td>0</td>\n",
       "      <td>0</td>\n",
       "      <td>0</td>\n",
       "      <td>0</td>\n",
       "      <td>66</td>\n",
       "      <td>147</td>\n",
       "      <td>0</td>\n",
       "      <td>0</td>\n",
       "      <td>0</td>\n",
       "      <td>1</td>\n",
       "      <td>...</td>\n",
       "      <td>0.0</td>\n",
       "      <td>0.0</td>\n",
       "      <td>66.0</td>\n",
       "      <td>147.0</td>\n",
       "      <td>0.0</td>\n",
       "      <td>66.00</td>\n",
       "      <td>147.000000</td>\n",
       "      <td>0.0</td>\n",
       "      <td>0.0</td>\n",
       "      <td>0.0</td>\n",
       "    </tr>\n",
       "    <tr>\n",
       "      <th>4</th>\n",
       "      <td>0</td>\n",
       "      <td>3</td>\n",
       "      <td>8</td>\n",
       "      <td>0</td>\n",
       "      <td>7</td>\n",
       "      <td>13</td>\n",
       "      <td>0</td>\n",
       "      <td>0</td>\n",
       "      <td>0</td>\n",
       "      <td>0</td>\n",
       "      <td>...</td>\n",
       "      <td>8.0</td>\n",
       "      <td>0.0</td>\n",
       "      <td>7.0</td>\n",
       "      <td>13.0</td>\n",
       "      <td>0.0</td>\n",
       "      <td>1.75</td>\n",
       "      <td>1.444444</td>\n",
       "      <td>0.0</td>\n",
       "      <td>3.0</td>\n",
       "      <td>8.0</td>\n",
       "    </tr>\n",
       "  </tbody>\n",
       "</table>\n",
       "<p>5 rows × 32 columns</p>\n",
       "</div>"
      ],
      "text/plain": [
       "   search_1  search_7  search_14  play_1  play_7  play_14  down_1  down_7  \\\n",
       "0         0         0          0       0       0        0       0       0   \n",
       "1         0         4         10      22      36       70       0       0   \n",
       "2         0         0          0      28      44       71       0       0   \n",
       "3         0         0          0       0      66      147       0       0   \n",
       "4         0         3          8       0       7       13       0       0   \n",
       "\n",
       "   down_14  churn          ...           search_ratio_14_1  play_down_ratio_1  \\\n",
       "0        0      1          ...                         0.0                0.0   \n",
       "1        1      0          ...                        10.0               22.0   \n",
       "2        0      0          ...                         0.0               28.0   \n",
       "3        0      1          ...                         0.0                0.0   \n",
       "4        0      0          ...                         8.0                0.0   \n",
       "\n",
       "   play_down_ratio_7  play_down_ratio_14  play_search_ratio_1  \\\n",
       "0                0.0                 0.0                  0.0   \n",
       "1               36.0                35.0                 22.0   \n",
       "2               44.0                71.0                 28.0   \n",
       "3               66.0               147.0                  0.0   \n",
       "4                7.0                13.0                  0.0   \n",
       "\n",
       "   play_search_ratio_7  play_search_ratio_14  search_down_ratio_1  \\\n",
       "0                 0.00              0.000000                  0.0   \n",
       "1                 7.20              6.363636                  0.0   \n",
       "2                44.00             71.000000                  0.0   \n",
       "3                66.00            147.000000                  0.0   \n",
       "4                 1.75              1.444444                  0.0   \n",
       "\n",
       "   search_down_ratio_7  search_down_ratio_14  \n",
       "0                  0.0                   0.0  \n",
       "1                  4.0                   5.0  \n",
       "2                  0.0                   0.0  \n",
       "3                  0.0                   0.0  \n",
       "4                  3.0                   8.0  \n",
       "\n",
       "[5 rows x 32 columns]"
      ]
     },
     "execution_count": 20,
     "metadata": {},
     "output_type": "execute_result"
    }
   ],
   "source": [
    "df_matrix['play_ratio_7_1'] = df_matrix['play_7']/(df_matrix['play_1'] + 1)\n",
    "df_matrix['play_ratio_14_7'] = df_matrix['play_14']/(df_matrix['play_7'] + 1)\n",
    "df_matrix['play_ratio_14_1'] = df_matrix['play_14']/(df_matrix['play_1'] + 1)\n",
    "\n",
    "df_matrix['down_ratio_7_1'] = df_matrix['down_7']/(df_matrix['down_1'] + 1)\n",
    "df_matrix['down_ratio_14_7'] = df_matrix['down_14']/(df_matrix['down_7'] + 1)\n",
    "df_matrix['down_ratio_14_1'] = df_matrix['down_14']/(df_matrix['down_1'] + 1)\n",
    "\n",
    "df_matrix['search_ratio_7_1'] = df_matrix['search_7']/(df_matrix['search_1'] + 1)\n",
    "df_matrix['search_ratio_14_7'] = df_matrix['search_14']/(df_matrix['search_7'] + 1)\n",
    "df_matrix['search_ratio_14_1'] = df_matrix['search_14']/(df_matrix['search_1'] + 1)\n",
    "\n",
    "df_matrix['play_down_ratio_1'] = df_matrix['play_1']/(df_matrix['down_1'] + 1)\n",
    "df_matrix['play_down_ratio_7'] = df_matrix['play_7']/(df_matrix['down_7'] + 1)\n",
    "df_matrix['play_down_ratio_14'] = df_matrix['play_14']/(df_matrix['down_14'] + 1)\n",
    "\n",
    "df_matrix['play_search_ratio_1'] = df_matrix['play_1']/(df_matrix['search_1'] + 1)\n",
    "df_matrix['play_search_ratio_7'] = df_matrix['play_7']/(df_matrix['search_7'] + 1)\n",
    "df_matrix['play_search_ratio_14'] = df_matrix['play_14']/(df_matrix['search_14'] + 1)\n",
    "\n",
    "df_matrix['search_down_ratio_1'] = df_matrix['search_1']/(df_matrix['down_1'] + 1)\n",
    "df_matrix['search_down_ratio_7'] = df_matrix['search_7']/(df_matrix['down_7'] + 1)\n",
    "df_matrix['search_down_ratio_14'] = df_matrix['search_14']/(df_matrix['down_14'] + 1)\n",
    "\n",
    "df_matrix.head(5)"
   ]
  },
  {
   "cell_type": "code",
   "execution_count": 21,
   "metadata": {
    "collapsed": true
   },
   "outputs": [],
   "source": [
    "y = np.array(df_matrix['churn'])\n",
    "del df_matrix['churn']\n",
    "x = np.array(df_matrix)"
   ]
  },
  {
   "cell_type": "code",
   "execution_count": 22,
   "metadata": {
    "collapsed": false
   },
   "outputs": [
    {
     "name": "stdout",
     "output_type": "stream",
     "text": [
      "shape of x is:(238828, 31)\n",
      "shape of y is:(238828,)\n"
     ]
    }
   ],
   "source": [
    "print('shape of x is:%s' % str(x.shape))\n",
    "print('shape of y is:%s' % str(y.shape))"
   ]
  },
  {
   "cell_type": "code",
   "execution_count": 23,
   "metadata": {
    "collapsed": false
   },
   "outputs": [
    {
     "data": {
      "text/plain": [
       "array(['search_1', 'search_7', 'search_14', 'play_1', 'play_7', 'play_14',\n",
       "       'down_1', 'down_7', 'down_14', 'ar', 'ip', 'mc', 'wp',\n",
       "       'play_ratio_7_1', 'play_ratio_14_7', 'play_ratio_14_1',\n",
       "       'down_ratio_7_1', 'down_ratio_14_7', 'down_ratio_14_1',\n",
       "       'search_ratio_7_1', 'search_ratio_14_7', 'search_ratio_14_1',\n",
       "       'play_down_ratio_1', 'play_down_ratio_7', 'play_down_ratio_14',\n",
       "       'play_search_ratio_1', 'play_search_ratio_7',\n",
       "       'play_search_ratio_14', 'search_down_ratio_1',\n",
       "       'search_down_ratio_7', 'search_down_ratio_14'], dtype=object)"
      ]
     },
     "execution_count": 23,
     "metadata": {},
     "output_type": "execute_result"
    }
   ],
   "source": [
    "df_matrix.columns.values"
   ]
  },
  {
   "cell_type": "code",
   "execution_count": 24,
   "metadata": {
    "collapsed": false
   },
   "outputs": [
    {
     "name": "stderr",
     "output_type": "stream",
     "text": [
      "/usr/local/lib/python2.7/site-packages/sklearn/cross_validation.py:44: DeprecationWarning: This module was deprecated in version 0.18 in favor of the model_selection module into which all the refactored classes and functions are moved. Also note that the interface of the new CV iterators are different from that of this module. This module will be removed in 0.20.\n",
      "  \"This module will be removed in 0.20.\", DeprecationWarning)\n"
     ]
    }
   ],
   "source": [
    "from sklearn.cross_validation import train_test_split"
   ]
  },
  {
   "cell_type": "code",
   "execution_count": 25,
   "metadata": {
    "collapsed": true
   },
   "outputs": [],
   "source": [
    "x_train, x_test, y_train, y_test = train_test_split(x,y,test_size=0.5, random_state=0)"
   ]
  },
  {
   "cell_type": "code",
   "execution_count": 26,
   "metadata": {
    "collapsed": false
   },
   "outputs": [
    {
     "data": {
      "text/plain": [
       "(31,)"
      ]
     },
     "execution_count": 26,
     "metadata": {},
     "output_type": "execute_result"
    }
   ],
   "source": [
    "feature_names = df_matrix.columns.values\n",
    "feature_names.shape"
   ]
  },
  {
   "cell_type": "markdown",
   "metadata": {},
   "source": [
    "### Logistic Regression Model"
   ]
  },
  {
   "cell_type": "code",
   "execution_count": 27,
   "metadata": {
    "collapsed": false
   },
   "outputs": [
    {
     "data": {
      "text/plain": [
       "LogisticRegression(C=1.0, class_weight=None, dual=False, fit_intercept=True,\n",
       "          intercept_scaling=1, max_iter=100, multi_class='ovr', n_jobs=1,\n",
       "          penalty='l2', random_state=None, solver='liblinear', tol=0.0001,\n",
       "          verbose=0, warm_start=False)"
      ]
     },
     "execution_count": 27,
     "metadata": {},
     "output_type": "execute_result"
    }
   ],
   "source": [
    "from sklearn.linear_model import LogisticRegression\n",
    "from sklearn.ensemble import RandomForestClassifier\n",
    "from sklearn.model_selection import GridSearchCV  \n",
    "from sklearn import cross_validation\n",
    "\n",
    "LogisticModel = LogisticRegression()\n",
    "LogisticModel.fit(x_train, y_train)"
   ]
  },
  {
   "cell_type": "code",
   "execution_count": 28,
   "metadata": {
    "collapsed": false
   },
   "outputs": [
    {
     "name": "stdout",
     "output_type": "stream",
     "text": [
      "Training DataSet Score: 0.753572\n",
      "Testing DataSet Score: 0.752349\n"
     ]
    }
   ],
   "source": [
    "print('Training DataSet Score: %f' % LogisticModel.score(x_train, y_train))\n",
    "print('Testing DataSet Score: %f' % LogisticModel.score(x_test, y_test))"
   ]
  },
  {
   "cell_type": "markdown",
   "metadata": {},
   "source": [
    "Using GridSearch method to find the best model parameters with lowest mean cross validation score"
   ]
  },
  {
   "cell_type": "code",
   "execution_count": 30,
   "metadata": {
    "collapsed": false
   },
   "outputs": [
    {
     "name": "stdout",
     "output_type": "stream",
     "text": [
      "Logistic Regression: Best parameters set found on development set:\n",
      "{'C': 8, 'tol': 0.0001}\n"
     ]
    }
   ],
   "source": [
    "LR_param = {\n",
    "    \"C\": [0.5,1,2,4,8,16],\n",
    "    \"tol\": [0.001,0.0001,0.00001]\n",
    "}\n",
    "LR = LogisticRegression(n_jobs = 4)\n",
    "LR_grid = GridSearchCV(LR, LR_param, cv=5)\n",
    "LR_grid.fit(x_train, y_train)\n",
    "print(\"Logistic Regression: Best parameters set found on development set:\")  \n",
    "print(LR_grid.best_params_)"
   ]
  },
  {
   "cell_type": "code",
   "execution_count": 31,
   "metadata": {
    "collapsed": false
   },
   "outputs": [
    {
     "name": "stdout",
     "output_type": "stream",
     "text": [
      "Training DataSet Score: 0.753521\n",
      "Testing DataSet Score: 0.752240\n"
     ]
    }
   ],
   "source": [
    "LogisticModel = LogisticRegression(C = 8, tol = 0.0001)\n",
    "LogisticModel.fit(x_train, y_train)\n",
    "print('Training DataSet Score: %f' % LogisticModel.score(x_train, y_train))\n",
    "print('Testing DataSet Score: %f' % LogisticModel.score(x_test, y_test))"
   ]
  },
  {
   "cell_type": "code",
   "execution_count": null,
   "metadata": {
    "collapsed": true
   },
   "outputs": [],
   "source": []
  },
  {
   "cell_type": "code",
   "execution_count": 32,
   "metadata": {
    "collapsed": false
   },
   "outputs": [],
   "source": [
    "def get_top_values(lst, n, labels):\n",
    "    return [labels[i] for i in np.argsort(lst)[::-1][:n]]  # np.argsort by default sorts values in ascending order"
   ]
  },
  {
   "cell_type": "markdown",
   "metadata": {},
   "source": [
    "The top 5 features to determine the churn activities are:"
   ]
  },
  {
   "cell_type": "code",
   "execution_count": 33,
   "metadata": {
    "collapsed": false
   },
   "outputs": [
    {
     "data": {
      "text/plain": [
       "['ar', 'search_down_ratio_1', 'search_down_ratio_7', 'ip', 'search_1']"
      ]
     },
     "execution_count": 33,
     "metadata": {},
     "output_type": "execute_result"
    }
   ],
   "source": [
    "coeff = np.absolute(LogisticModel.coef_[0])\n",
    "get_top_values(coeff, 5, feature_names)"
   ]
  },
  {
   "cell_type": "markdown",
   "metadata": {},
   "source": [
    "### Random Forest Classifier"
   ]
  },
  {
   "cell_type": "code",
   "execution_count": 34,
   "metadata": {
    "collapsed": false
   },
   "outputs": [
    {
     "data": {
      "text/plain": [
       "RandomForestClassifier(bootstrap=True, class_weight=None, criterion='gini',\n",
       "            max_depth=None, max_features='auto', max_leaf_nodes=None,\n",
       "            min_impurity_split=1e-07, min_samples_leaf=1,\n",
       "            min_samples_split=2, min_weight_fraction_leaf=0.0,\n",
       "            n_estimators=10, n_jobs=-1, oob_score=False, random_state=None,\n",
       "            verbose=0, warm_start=False)"
      ]
     },
     "execution_count": 34,
     "metadata": {},
     "output_type": "execute_result"
    }
   ],
   "source": [
    "RandomForestModel = RandomForestClassifier(n_jobs = -1)\n",
    "RandomForestModel.fit(x_train, y_train)"
   ]
  },
  {
   "cell_type": "code",
   "execution_count": 35,
   "metadata": {
    "collapsed": false
   },
   "outputs": [
    {
     "name": "stdout",
     "output_type": "stream",
     "text": [
      "Training DataSet Score: 0.864178\n",
      "Testing DataSet Score: 0.792160\n"
     ]
    }
   ],
   "source": [
    "print(\"Training DataSet Score: %f\" % (RandomForestModel.score(x_train, y_train)))\n",
    "print(\"Testing DataSet Score: %f\" % (RandomForestModel.score(x_test, y_test)))"
   ]
  },
  {
   "cell_type": "code",
   "execution_count": 36,
   "metadata": {
    "collapsed": false
   },
   "outputs": [
    {
     "name": "stdout",
     "output_type": "stream",
     "text": [
      "Random Forest: Best parameters set found on development set:\n",
      "{'min_samples_split': 120, 'n_estimators': 60, 'criterion': 'entropy'}\n"
     ]
    }
   ],
   "source": [
    "RF_param = {\n",
    "    \"n_estimators\": [60,70,80,90],\n",
    "    \"criterion\": [\"entropy\",\"gini\"],\n",
    "    \"min_samples_split\": [80,100,120,140,160],\n",
    "}\n",
    "RF = RandomForestClassifier(n_jobs=-1, random_state = 1)\n",
    "RF_grid = GridSearchCV(RF, RF_param, cv=5)\n",
    "RF_grid.fit(x_train, y_train)\n",
    "print(\"Random Forest: Best parameters set found on development set:\")  \n",
    "print(RF_grid.best_params_)"
   ]
  },
  {
   "cell_type": "code",
   "execution_count": 37,
   "metadata": {
    "collapsed": false
   },
   "outputs": [
    {
     "name": "stdout",
     "output_type": "stream",
     "text": [
      "Training DataSet Score: 0.818229\n",
      "Testing DataSet Score: 0.803239\n"
     ]
    }
   ],
   "source": [
    "RandomForestModel = RandomForestClassifier(min_samples_split=120, n_estimators=60, criterion='entropy',n_jobs=-1)\n",
    "RandomForestModel.fit(x_train, y_train)\n",
    "print(\"Training DataSet Score: %f\" % (RandomForestModel.score(x_train, y_train)))\n",
    "print(\"Testing DataSet Score: %f\" % (RandomForestModel.score(x_test, y_test)))"
   ]
  },
  {
   "cell_type": "markdown",
   "metadata": {},
   "source": [
    "The top 5 features to determine the churn activities are:"
   ]
  },
  {
   "cell_type": "code",
   "execution_count": 39,
   "metadata": {
    "collapsed": false
   },
   "outputs": [
    {
     "data": {
      "text/plain": [
       "['play_search_ratio_7',\n",
       " 'play_7',\n",
       " 'play_down_ratio_7',\n",
       " 'play_ratio_14_7',\n",
       " 'play_ratio_7_1']"
      ]
     },
     "execution_count": 39,
     "metadata": {},
     "output_type": "execute_result"
    }
   ],
   "source": [
    "get_top_values(RandomForestModel.feature_importances_, 5, feature_names)"
   ]
  },
  {
   "cell_type": "markdown",
   "metadata": {},
   "source": [
    "### Gradient Boosting Decision Tree"
   ]
  },
  {
   "cell_type": "code",
   "execution_count": 40,
   "metadata": {
    "collapsed": true
   },
   "outputs": [],
   "source": [
    "from sklearn.ensemble import GradientBoostingClassifier  #GBM algorithm\n",
    "from sklearn import cross_validation, metrics   #Additional scklearn functions\n",
    "import matplotlib.pylab as plt\n",
    "%matplotlib inline\n",
    "from matplotlib.pylab import rcParams\n",
    "rcParams['figure.figsize'] = 12, 4\n",
    "def modelfit(alg, x_train, y_train, names, performCV=True, printFeatureImportance=True, cv_folds=5):\n",
    "    #Fit the algorithm on the data\n",
    "    alg.fit(x_train, y_train)\n",
    "        \n",
    "    #Predict training set:\n",
    "    y_predictions = alg.predict(x_train)\n",
    "    y_predprob = alg.predict_proba(x_train)[:,1]\n",
    "    \n",
    "    #Perform cross-validation:\n",
    "    if performCV:\n",
    "        cv_score = cross_validation.cross_val_score(alg, x_train, y_train, cv=cv_folds, scoring='roc_auc')\n",
    "    \n",
    "    #Print model report:\n",
    "    print \"\\nModel Report\"\n",
    "    print \"Accuracy : %.4g\" % metrics.accuracy_score(y_train, y_predictions)\n",
    "    print \"AUC Score (Train): %f\" % metrics.roc_auc_score(y_train, y_predprob)\n",
    "    \n",
    "    if performCV:\n",
    "        print \"CV Score : Mean - %.7g | Std - %.7g | Min - %.7g | Max - %.7g\" % (np.mean(cv_score),np.std(cv_score),np.min(cv_score),np.max(cv_score))\n",
    "        \n",
    "    #Print Feature Importance:\n",
    "    if printFeatureImportance:\n",
    "        feat_imp = pd.Series(alg.feature_importances_, names).sort_values(ascending=False)\n",
    "        feat_imp.plot(kind='bar', title='Feature Importances')\n",
    "        plt.ylabel('Feature Importance Score')"
   ]
  },
  {
   "cell_type": "code",
   "execution_count": 41,
   "metadata": {
    "collapsed": false
   },
   "outputs": [
    {
     "name": "stdout",
     "output_type": "stream",
     "text": [
      "\n",
      "Model Report\n",
      "Accuracy : 0.8077\n",
      "AUC Score (Train): 0.877037\n",
      "CV Score : Mean - 0.8756089 | Std - 0.001478513 | Min - 0.8738397 | Max - 0.8782704\n"
     ]
    },
    {
     "data": {
      "image/png": "[encoded data removed]",
      "text/plain": [
       "<matplotlib.figure.Figure at 0x11ca7e850>"
      ]
     },
     "metadata": {},
     "output_type": "display_data"
    }
   ],
   "source": [
    "gbm = GradientBoostingClassifier(random_state=1)\n",
    "modelfit(gbm, x_train, y_train, feature_names)"
   ]
  },
  {
   "cell_type": "code",
   "execution_count": 42,
   "metadata": {
    "collapsed": false
   },
   "outputs": [
    {
     "name": "stdout",
     "output_type": "stream",
     "text": [
      "Training DataSet Score: 0.807744\n",
      "Testing DataSet Score: 0.803884\n"
     ]
    }
   ],
   "source": [
    "print(\"Training DataSet Score: %f\" % (gbm.score(x_train, y_train)))\n",
    "print(\"Testing DataSet Score: %f\" % (gbm.score(x_test, y_test)))"
   ]
  },
  {
   "cell_type": "code",
   "execution_count": 43,
   "metadata": {
    "collapsed": false
   },
   "outputs": [
    {
     "data": {
      "text/plain": [
       "GridSearchCV(cv=5, error_score='raise',\n",
       "       estimator=GradientBoostingClassifier(criterion='friedman_mse', init=None,\n",
       "              learning_rate=0.1, loss='deviance', max_depth=8,\n",
       "              max_features='sqrt', max_leaf_nodes=None,\n",
       "              min_impurity_split=1e-07, min_samples_leaf=50,\n",
       "              min_samples_split=500, min_weight_fraction_leaf=0.0,\n",
       "              n_estimators=100, presort='auto', random_state=10,\n",
       "              subsample=0.8, verbose=0, warm_start=False),\n",
       "       fit_params={}, iid=False, n_jobs=4,\n",
       "       param_grid={'n_estimators': [70, 80, 90, 100]},\n",
       "       pre_dispatch='2*n_jobs', refit=True, return_train_score=True,\n",
       "       scoring='roc_auc', verbose=0)"
      ]
     },
     "execution_count": 43,
     "metadata": {},
     "output_type": "execute_result"
    }
   ],
   "source": [
    "param_test1 = {'n_estimators':range(70, 101 ,10)}\n",
    "gsearch1 = GridSearchCV(\n",
    "    estimator = GradientBoostingClassifier(learning_rate=0.1, min_samples_split=500,min_samples_leaf=50,max_depth=8,max_features='sqrt',subsample=0.8,random_state=10), \n",
    "    param_grid = param_test1, scoring='roc_auc',n_jobs=4,iid=False, cv=5)\n",
    "gsearch1.fit(x_train,y_train)"
   ]
  },
  {
   "cell_type": "code",
   "execution_count": 44,
   "metadata": {
    "collapsed": false
   },
   "outputs": [
    {
     "name": "stdout",
     "output_type": "stream",
     "text": [
      "[mean: 0.87650, std: 0.00150, params: {'n_estimators': 70}, mean: 0.87646, std: 0.00146, params: {'n_estimators': 80}, mean: 0.87645, std: 0.00145, params: {'n_estimators': 90}, mean: 0.87641, std: 0.00144, params: {'n_estimators': 100}]\n",
      "Best Parameter: {'n_estimators': 70}\n",
      "Best Score: 0.876497\n"
     ]
    },
    {
     "name": "stderr",
     "output_type": "stream",
     "text": [
      "/usr/local/lib/python2.7/site-packages/sklearn/model_selection/_search.py:667: DeprecationWarning: The grid_scores_ attribute was deprecated in version 0.18 in favor of the more elaborate cv_results_ attribute. The grid_scores_ attribute will not be available from 0.20\n",
      "  DeprecationWarning)\n"
     ]
    }
   ],
   "source": [
    "print(gsearch1.grid_scores_)\n",
    "print('Best Parameter: %s' % gsearch1.best_params_)\n",
    "print('Best Score: %f' % gsearch1.best_score_)"
   ]
  },
  {
   "cell_type": "code",
   "execution_count": 45,
   "metadata": {
    "collapsed": false
   },
   "outputs": [
    {
     "data": {
      "text/plain": [
       "GridSearchCV(cv=5, error_score='raise',\n",
       "       estimator=GradientBoostingClassifier(criterion='friedman_mse', init=None,\n",
       "              learning_rate=0.1, loss='deviance', max_depth=3,\n",
       "              max_features='sqrt', max_leaf_nodes=None,\n",
       "              min_impurity_split=1e-07, min_samples_leaf=1,\n",
       "              min_samples_split=2, min_weight_fraction_leaf=0.0,\n",
       "              n_estimators=70, presort='auto', random_state=10,\n",
       "              subsample=0.8, verbose=0, warm_start=False),\n",
       "       fit_params={}, iid=False, n_jobs=4,\n",
       "       param_grid={'min_samples_split': [200, 400, 600, 800, 1000], 'max_depth': [5, 7, 9, 11, 13, 15]},\n",
       "       pre_dispatch='2*n_jobs', refit=True, return_train_score=True,\n",
       "       scoring='roc_auc', verbose=0)"
      ]
     },
     "execution_count": 45,
     "metadata": {},
     "output_type": "execute_result"
    }
   ],
   "source": [
    "param_test2 = {'max_depth':range(5,16,2), 'min_samples_split':range(200,1001,200)}\n",
    "gsearch2 = GridSearchCV(estimator = GradientBoostingClassifier(learning_rate=0.1, n_estimators=70, max_features='sqrt', subsample=0.8, random_state=10), \n",
    "param_grid = param_test2, scoring='roc_auc',n_jobs=4,iid=False, cv=5)\n",
    "gsearch2.fit(x_train,y_train)"
   ]
  },
  {
   "cell_type": "code",
   "execution_count": 46,
   "metadata": {
    "collapsed": false
   },
   "outputs": [
    {
     "name": "stdout",
     "output_type": "stream",
     "text": [
      "[mean: 0.87614, std: 0.00157, params: {'min_samples_split': 200, 'max_depth': 5}, mean: 0.87611, std: 0.00154, params: {'min_samples_split': 400, 'max_depth': 5}, mean: 0.87620, std: 0.00150, params: {'min_samples_split': 600, 'max_depth': 5}, mean: 0.87613, std: 0.00156, params: {'min_samples_split': 800, 'max_depth': 5}, mean: 0.87618, std: 0.00153, params: {'min_samples_split': 1000, 'max_depth': 5}, mean: 0.87630, std: 0.00147, params: {'min_samples_split': 200, 'max_depth': 7}, mean: 0.87630, std: 0.00153, params: {'min_samples_split': 400, 'max_depth': 7}, mean: 0.87637, std: 0.00142, params: {'min_samples_split': 600, 'max_depth': 7}, mean: 0.87630, std: 0.00152, params: {'min_samples_split': 800, 'max_depth': 7}, mean: 0.87645, std: 0.00153, params: {'min_samples_split': 1000, 'max_depth': 7}, mean: 0.87603, std: 0.00153, params: {'min_samples_split': 200, 'max_depth': 9}, mean: 0.87611, std: 0.00151, params: {'min_samples_split': 400, 'max_depth': 9}, mean: 0.87628, std: 0.00151, params: {'min_samples_split': 600, 'max_depth': 9}, mean: 0.87636, std: 0.00155, params: {'min_samples_split': 800, 'max_depth': 9}, mean: 0.87630, std: 0.00145, params: {'min_samples_split': 1000, 'max_depth': 9}, mean: 0.87559, std: 0.00156, params: {'min_samples_split': 200, 'max_depth': 11}, mean: 0.87584, std: 0.00164, params: {'min_samples_split': 400, 'max_depth': 11}, mean: 0.87608, std: 0.00154, params: {'min_samples_split': 600, 'max_depth': 11}, mean: 0.87607, std: 0.00158, params: {'min_samples_split': 800, 'max_depth': 11}, mean: 0.87621, std: 0.00150, params: {'min_samples_split': 1000, 'max_depth': 11}, mean: 0.87513, std: 0.00146, params: {'min_samples_split': 200, 'max_depth': 13}, mean: 0.87558, std: 0.00151, params: {'min_samples_split': 400, 'max_depth': 13}, mean: 0.87588, std: 0.00157, params: {'min_samples_split': 600, 'max_depth': 13}, mean: 0.87591, std: 0.00143, params: {'min_samples_split': 800, 'max_depth': 13}, mean: 0.87598, std: 0.00149, params: {'min_samples_split': 1000, 'max_depth': 13}, mean: 0.87465, std: 0.00140, params: {'min_samples_split': 200, 'max_depth': 15}, mean: 0.87538, std: 0.00132, params: {'min_samples_split': 400, 'max_depth': 15}, mean: 0.87560, std: 0.00156, params: {'min_samples_split': 600, 'max_depth': 15}, mean: 0.87580, std: 0.00155, params: {'min_samples_split': 800, 'max_depth': 15}, mean: 0.87592, std: 0.00156, params: {'min_samples_split': 1000, 'max_depth': 15}]\n",
      "Best Parameter: {'min_samples_split': 1000, 'max_depth': 7}\n",
      "Best Score: 0.876450\n"
     ]
    },
    {
     "name": "stderr",
     "output_type": "stream",
     "text": [
      "/usr/local/lib/python2.7/site-packages/sklearn/model_selection/_search.py:667: DeprecationWarning: The grid_scores_ attribute was deprecated in version 0.18 in favor of the more elaborate cv_results_ attribute. The grid_scores_ attribute will not be available from 0.20\n",
      "  DeprecationWarning)\n"
     ]
    }
   ],
   "source": [
    "print(gsearch2.grid_scores_)\n",
    "print('Best Parameter: %s' % gsearch2.best_params_)\n",
    "print('Best Score: %f' % gsearch2.best_score_)"
   ]
  },
  {
   "cell_type": "code",
   "execution_count": 47,
   "metadata": {
    "collapsed": false
   },
   "outputs": [
    {
     "data": {
      "text/plain": [
       "GridSearchCV(cv=5, error_score='raise',\n",
       "       estimator=GradientBoostingClassifier(criterion='friedman_mse', init=None,\n",
       "              learning_rate=0.1, loss='deviance', max_depth=7,\n",
       "              max_features='sqrt', max_leaf_nodes=None,\n",
       "              min_impurity_split=1e-07, min_samples_leaf=1,\n",
       "              min_samples_split=1000, min_weight_fraction_leaf=0.0,\n",
       "              n_estimators=70, presort='auto', random_state=10,\n",
       "              subsample=0.8, verbose=0, warm_start=False),\n",
       "       fit_params={}, iid=False, n_jobs=4,\n",
       "       param_grid={'min_samples_leaf': [100, 110, 120, 130, 140, 150]},\n",
       "       pre_dispatch='2*n_jobs', refit=True, return_train_score=True,\n",
       "       scoring='roc_auc', verbose=0)"
      ]
     },
     "execution_count": 47,
     "metadata": {},
     "output_type": "execute_result"
    }
   ],
   "source": [
    "param_test3 = {'min_samples_leaf':range(100,151,10)}\n",
    "gsearch3 = GridSearchCV(estimator = GradientBoostingClassifier(learning_rate=0.1, n_estimators=70,max_depth=7,min_samples_split=1000,max_features='sqrt', subsample=0.8, random_state=10), \n",
    "param_grid = param_test3, scoring='roc_auc',n_jobs=4,iid=False, cv=5)\n",
    "gsearch3.fit(x_train,y_train)"
   ]
  },
  {
   "cell_type": "code",
   "execution_count": 48,
   "metadata": {
    "collapsed": false
   },
   "outputs": [
    {
     "name": "stdout",
     "output_type": "stream",
     "text": [
      "[mean: 0.87654, std: 0.00144, params: {'min_samples_leaf': 100}, mean: 0.87651, std: 0.00146, params: {'min_samples_leaf': 110}, mean: 0.87657, std: 0.00144, params: {'min_samples_leaf': 120}, mean: 0.87658, std: 0.00146, params: {'min_samples_leaf': 130}, mean: 0.87655, std: 0.00155, params: {'min_samples_leaf': 140}, mean: 0.87661, std: 0.00154, params: {'min_samples_leaf': 150}]\n",
      "Best Parameter: {'min_samples_leaf': 150}\n",
      "Best Score: 0.876613\n"
     ]
    },
    {
     "name": "stderr",
     "output_type": "stream",
     "text": [
      "/usr/local/lib/python2.7/site-packages/sklearn/model_selection/_search.py:667: DeprecationWarning: The grid_scores_ attribute was deprecated in version 0.18 in favor of the more elaborate cv_results_ attribute. The grid_scores_ attribute will not be available from 0.20\n",
      "  DeprecationWarning)\n"
     ]
    }
   ],
   "source": [
    "print(gsearch3.grid_scores_)\n",
    "print('Best Parameter: %s' % gsearch3.best_params_)\n",
    "print('Best Score: %f' % gsearch3.best_score_)"
   ]
  },
  {
   "cell_type": "code",
   "execution_count": 49,
   "metadata": {
    "collapsed": false
   },
   "outputs": [
    {
     "data": {
      "text/plain": [
       "GridSearchCV(cv=5, error_score='raise',\n",
       "       estimator=GradientBoostingClassifier(criterion='friedman_mse', init=None,\n",
       "              learning_rate=0.1, loss='deviance', max_depth=7,\n",
       "              max_features=None, max_leaf_nodes=None,\n",
       "              min_impurity_split=1e-07, min_samples_leaf=150,\n",
       "              min_samples_split=1000, min_weight_fraction_leaf=0.0,\n",
       "              n_estimators=70, presort='auto', random_state=10,\n",
       "              subsample=1.0, verbose=0, warm_start=False),\n",
       "       fit_params={}, iid=False, n_jobs=4,\n",
       "       param_grid={'subsample': [0.6, 0.7, 0.75, 0.8, 0.85, 0.9]},\n",
       "       pre_dispatch='2*n_jobs', refit=True, return_train_score=True,\n",
       "       scoring='roc_auc', verbose=0)"
      ]
     },
     "execution_count": 49,
     "metadata": {},
     "output_type": "execute_result"
    }
   ],
   "source": [
    "param_test4 = {'subsample':[0.6,0.7,0.75,0.8,0.85,0.9]}\n",
    "gsearch4 = GridSearchCV(estimator = GradientBoostingClassifier(learning_rate=0.1, n_estimators=70,max_depth=7, min_samples_split=1000, min_samples_leaf=150, random_state=10),\n",
    "param_grid = param_test4, scoring='roc_auc',n_jobs=4,iid=False, cv=5)\n",
    "gsearch4.fit(x_train,y_train)"
   ]
  },
  {
   "cell_type": "code",
   "execution_count": 50,
   "metadata": {
    "collapsed": false
   },
   "outputs": [
    {
     "name": "stdout",
     "output_type": "stream",
     "text": [
      "[mean: 0.87649, std: 0.00156, params: {'subsample': 0.6}, mean: 0.87647, std: 0.00150, params: {'subsample': 0.7}, mean: 0.87644, std: 0.00145, params: {'subsample': 0.75}, mean: 0.87655, std: 0.00151, params: {'subsample': 0.8}, mean: 0.87657, std: 0.00150, params: {'subsample': 0.85}, mean: 0.87659, std: 0.00142, params: {'subsample': 0.9}]\n",
      "Best Parameter: {'subsample': 0.9}\n",
      "Best Score: 0.876591\n"
     ]
    },
    {
     "name": "stderr",
     "output_type": "stream",
     "text": [
      "/usr/local/lib/python2.7/site-packages/sklearn/model_selection/_search.py:667: DeprecationWarning: The grid_scores_ attribute was deprecated in version 0.18 in favor of the more elaborate cv_results_ attribute. The grid_scores_ attribute will not be available from 0.20\n",
      "  DeprecationWarning)\n"
     ]
    }
   ],
   "source": [
    "print(gsearch4.grid_scores_)\n",
    "print('Best Parameter: %s' % gsearch4.best_params_)\n",
    "print('Best Score: %f' % gsearch4.best_score_)"
   ]
  },
  {
   "cell_type": "code",
   "execution_count": 51,
   "metadata": {
    "collapsed": false
   },
   "outputs": [
    {
     "data": {
      "text/plain": [
       "GridSearchCV(cv=5, error_score='raise',\n",
       "       estimator=GradientBoostingClassifier(criterion='friedman_mse', init=None,\n",
       "              learning_rate=0.1, loss='deviance', max_depth=7,\n",
       "              max_features=None, max_leaf_nodes=None,\n",
       "              min_impurity_split=1e-07, min_samples_leaf=150,\n",
       "              min_samples_split=1000, min_weight_fraction_leaf=0.0,\n",
       "              n_estimators=70, presort='auto', random_state=10,\n",
       "              subsample=0.9, verbose=0, warm_start=False),\n",
       "       fit_params={}, iid=False, n_jobs=4,\n",
       "       param_grid={'learning_rate': [0.1, 0.05, 0.01, 0.005, 0.001]},\n",
       "       pre_dispatch='2*n_jobs', refit=True, return_train_score=True,\n",
       "       scoring='roc_auc', verbose=0)"
      ]
     },
     "execution_count": 51,
     "metadata": {},
     "output_type": "execute_result"
    }
   ],
   "source": [
    "param_test5 = {'learning_rate':[0.1,0.05,0.01,0.005,0.001]}\n",
    "gsearch5 = GridSearchCV(estimator = GradientBoostingClassifier(n_estimators=70,max_depth=7, min_samples_split=1000, min_samples_leaf=150, subsample=0.9,random_state=10),\n",
    "param_grid = param_test5, scoring='roc_auc',n_jobs=4,iid=False, cv=5)\n",
    "gsearch5.fit(x_train,y_train)"
   ]
  },
  {
   "cell_type": "code",
   "execution_count": 52,
   "metadata": {
    "collapsed": false
   },
   "outputs": [
    {
     "name": "stdout",
     "output_type": "stream",
     "text": [
      "[mean: 0.87659, std: 0.00142, params: {'learning_rate': 0.1}, mean: 0.87661, std: 0.00155, params: {'learning_rate': 0.05}, mean: 0.87611, std: 0.00151, params: {'learning_rate': 0.01}, mean: 0.87593, std: 0.00152, params: {'learning_rate': 0.005}, mean: 0.87569, std: 0.00148, params: {'learning_rate': 0.001}]\n",
      "Best Parameter: {'learning_rate': 0.05}\n",
      "Best Score: 0.876611\n"
     ]
    },
    {
     "name": "stderr",
     "output_type": "stream",
     "text": [
      "/usr/local/lib/python2.7/site-packages/sklearn/model_selection/_search.py:667: DeprecationWarning: The grid_scores_ attribute was deprecated in version 0.18 in favor of the more elaborate cv_results_ attribute. The grid_scores_ attribute will not be available from 0.20\n",
      "  DeprecationWarning)\n"
     ]
    }
   ],
   "source": [
    "print(gsearch5.grid_scores_)\n",
    "print('Best Parameter: %s' % gsearch5.best_params_)\n",
    "print('Best Score: %f' % gsearch5.best_score_)"
   ]
  },
  {
   "cell_type": "code",
   "execution_count": 53,
   "metadata": {
    "collapsed": false
   },
   "outputs": [
    {
     "name": "stdout",
     "output_type": "stream",
     "text": [
      "\n",
      "Model Report\n",
      "Accuracy : 0.8102\n",
      "AUC Score (Train): 0.879257\n",
      "CV Score : Mean - 0.8766108 | Std - 0.001545222 | Min - 0.874546 | Max - 0.8792848\n"
     ]
    },
    {
     "data": {
      "image/png": "[encoded data removed]",
      "text/plain": [
       "<matplotlib.figure.Figure at 0x113df0890>"
      ]
     },
     "metadata": {},
     "output_type": "display_data"
    }
   ],
   "source": [
    "gbm = GradientBoostingClassifier(learning_rate = 0.05, n_estimators=70,max_depth=7, min_samples_split=1000, min_samples_leaf=150, subsample=0.9,random_state=10)\n",
    "modelfit(gbm, x_train, y_train, feature_names)"
   ]
  },
  {
   "cell_type": "code",
   "execution_count": 54,
   "metadata": {
    "collapsed": false
   },
   "outputs": [
    {
     "name": "stdout",
     "output_type": "stream",
     "text": [
      "Training DataSet Score: 0.810215\n",
      "Testing DataSet Score: 0.803775\n"
     ]
    }
   ],
   "source": [
    "print(\"Training DataSet Score: %f\" % (gbm.score(x_train, y_train)))\n",
    "print(\"Testing DataSet Score: %f\" % (gbm.score(x_test, y_test)))"
   ]
  },
  {
   "cell_type": "code",
   "execution_count": null,
   "metadata": {
    "collapsed": true
   },
   "outputs": [],
   "source": []
  }
 ],
 "metadata": {
  "kernelspec": {
   "display_name": "Python 2",
   "language": "python",
   "name": "python2"
  },
  "language_info": {
   "codemirror_mode": {
    "name": "ipython",
    "version": 2
   },
   "file_extension": ".py",
   "mimetype": "text/x-python",
   "name": "python",
   "nbconvert_exporter": "python",
   "pygments_lexer": "ipython2",
   "version": "2.7.12"
  }
 },
 "nbformat": 4,
 "nbformat_minor": 1
}
