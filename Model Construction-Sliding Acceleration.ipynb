{
 "cells": [
  {
   "cell_type": "code",
   "execution_count": 1,
   "metadata": {
    "collapsed": true
   },
   "outputs": [],
   "source": [
    "import pandas as pd\n",
    "import numpy as np"
   ]
  },
  {
   "cell_type": "markdown",
   "metadata": {},
   "source": [
    "### Use the generated feature file as the input for the model construction"
   ]
  },
  {
   "cell_type": "code",
   "execution_count": 2,
   "metadata": {
    "collapsed": false
   },
   "outputs": [
    {
     "data": {
      "text/html": [
       "<div>\n",
       "<style>\n",
       "    .dataframe thead tr:only-child th {\n",
       "        text-align: right;\n",
       "    }\n",
       "\n",
       "    .dataframe thead th {\n",
       "        text-align: left;\n",
       "    }\n",
       "\n",
       "    .dataframe tbody tr th {\n",
       "        vertical-align: top;\n",
       "    }\n",
       "</style>\n",
       "<table border=\"1\" class=\"dataframe\">\n",
       "  <thead>\n",
       "    <tr style=\"text-align: right;\">\n",
       "      <th></th>\n",
       "      <th>user_id</th>\n",
       "      <th>phone</th>\n",
       "      <th>search_1</th>\n",
       "      <th>search_7</th>\n",
       "      <th>search_14</th>\n",
       "      <th>play_1</th>\n",
       "      <th>play_7</th>\n",
       "      <th>play_14</th>\n",
       "      <th>down_1</th>\n",
       "      <th>down_7</th>\n",
       "      <th>down_14</th>\n",
       "      <th>churn</th>\n",
       "    </tr>\n",
       "  </thead>\n",
       "  <tbody>\n",
       "    <tr>\n",
       "      <th>0</th>\n",
       "      <td>168276196</td>\n",
       "      <td>ar</td>\n",
       "      <td>0</td>\n",
       "      <td>0</td>\n",
       "      <td>0</td>\n",
       "      <td>0</td>\n",
       "      <td>8</td>\n",
       "      <td>159</td>\n",
       "      <td>0</td>\n",
       "      <td>0</td>\n",
       "      <td>0</td>\n",
       "      <td>1</td>\n",
       "    </tr>\n",
       "    <tr>\n",
       "      <th>1</th>\n",
       "      <td>169017759</td>\n",
       "      <td>ar</td>\n",
       "      <td>1</td>\n",
       "      <td>6</td>\n",
       "      <td>37</td>\n",
       "      <td>228</td>\n",
       "      <td>322</td>\n",
       "      <td>563</td>\n",
       "      <td>0</td>\n",
       "      <td>1</td>\n",
       "      <td>221</td>\n",
       "      <td>0</td>\n",
       "    </tr>\n",
       "    <tr>\n",
       "      <th>2</th>\n",
       "      <td>168494395</td>\n",
       "      <td>ar</td>\n",
       "      <td>4</td>\n",
       "      <td>4</td>\n",
       "      <td>5</td>\n",
       "      <td>7</td>\n",
       "      <td>7</td>\n",
       "      <td>56</td>\n",
       "      <td>0</td>\n",
       "      <td>0</td>\n",
       "      <td>0</td>\n",
       "      <td>0</td>\n",
       "    </tr>\n",
       "  </tbody>\n",
       "</table>\n",
       "</div>"
      ],
      "text/plain": [
       "     user_id phone  search_1  search_7  search_14  play_1  play_7  play_14  \\\n",
       "0  168276196    ar         0         0          0       0       8      159   \n",
       "1  169017759    ar         1         6         37     228     322      563   \n",
       "2  168494395    ar         4         4          5       7       7       56   \n",
       "\n",
       "   down_1  down_7  down_14  churn  \n",
       "0       0       0        0      1  \n",
       "1       0       1      221      0  \n",
       "2       0       0        0      0  "
      ]
     },
     "execution_count": 2,
     "metadata": {},
     "output_type": "execute_result"
    }
   ],
   "source": [
    "df = pd.read_csv('generate_sliding.csv')\n",
    "df.head(3)"
   ]
  },
  {
   "cell_type": "code",
   "execution_count": 3,
   "metadata": {
    "collapsed": false
   },
   "outputs": [
    {
     "data": {
      "text/html": [
       "<div>\n",
       "<style>\n",
       "    .dataframe thead tr:only-child th {\n",
       "        text-align: right;\n",
       "    }\n",
       "\n",
       "    .dataframe thead th {\n",
       "        text-align: left;\n",
       "    }\n",
       "\n",
       "    .dataframe tbody tr th {\n",
       "        vertical-align: top;\n",
       "    }\n",
       "</style>\n",
       "<table border=\"1\" class=\"dataframe\">\n",
       "  <thead>\n",
       "    <tr style=\"text-align: right;\">\n",
       "      <th></th>\n",
       "      <th>phone</th>\n",
       "      <th>search_1</th>\n",
       "      <th>search_7</th>\n",
       "      <th>search_14</th>\n",
       "      <th>play_1</th>\n",
       "      <th>play_7</th>\n",
       "      <th>play_14</th>\n",
       "      <th>down_1</th>\n",
       "      <th>down_7</th>\n",
       "      <th>down_14</th>\n",
       "      <th>churn</th>\n",
       "    </tr>\n",
       "  </thead>\n",
       "  <tbody>\n",
       "    <tr>\n",
       "      <th>0</th>\n",
       "      <td>ar</td>\n",
       "      <td>0</td>\n",
       "      <td>0</td>\n",
       "      <td>0</td>\n",
       "      <td>0</td>\n",
       "      <td>8</td>\n",
       "      <td>159</td>\n",
       "      <td>0</td>\n",
       "      <td>0</td>\n",
       "      <td>0</td>\n",
       "      <td>1</td>\n",
       "    </tr>\n",
       "    <tr>\n",
       "      <th>1</th>\n",
       "      <td>ar</td>\n",
       "      <td>1</td>\n",
       "      <td>6</td>\n",
       "      <td>37</td>\n",
       "      <td>228</td>\n",
       "      <td>322</td>\n",
       "      <td>563</td>\n",
       "      <td>0</td>\n",
       "      <td>1</td>\n",
       "      <td>221</td>\n",
       "      <td>0</td>\n",
       "    </tr>\n",
       "    <tr>\n",
       "      <th>2</th>\n",
       "      <td>ar</td>\n",
       "      <td>4</td>\n",
       "      <td>4</td>\n",
       "      <td>5</td>\n",
       "      <td>7</td>\n",
       "      <td>7</td>\n",
       "      <td>56</td>\n",
       "      <td>0</td>\n",
       "      <td>0</td>\n",
       "      <td>0</td>\n",
       "      <td>0</td>\n",
       "    </tr>\n",
       "  </tbody>\n",
       "</table>\n",
       "</div>"
      ],
      "text/plain": [
       "  phone  search_1  search_7  search_14  play_1  play_7  play_14  down_1  \\\n",
       "0    ar         0         0          0       0       8      159       0   \n",
       "1    ar         1         6         37     228     322      563       0   \n",
       "2    ar         4         4          5       7       7       56       0   \n",
       "\n",
       "   down_7  down_14  churn  \n",
       "0       0        0      1  \n",
       "1       1      221      0  \n",
       "2       0        0      0  "
      ]
     },
     "execution_count": 3,
     "metadata": {},
     "output_type": "execute_result"
    }
   ],
   "source": [
    "df_feature = df.drop('user_id', axis = 1)\n",
    "df_feature.head(3)"
   ]
  },
  {
   "cell_type": "code",
   "execution_count": 4,
   "metadata": {
    "collapsed": false
   },
   "outputs": [
    {
     "data": {
      "text/html": [
       "<div>\n",
       "<style>\n",
       "    .dataframe thead tr:only-child th {\n",
       "        text-align: right;\n",
       "    }\n",
       "\n",
       "    .dataframe thead th {\n",
       "        text-align: left;\n",
       "    }\n",
       "\n",
       "    .dataframe tbody tr th {\n",
       "        vertical-align: top;\n",
       "    }\n",
       "</style>\n",
       "<table border=\"1\" class=\"dataframe\">\n",
       "  <thead>\n",
       "    <tr style=\"text-align: right;\">\n",
       "      <th></th>\n",
       "      <th>search_1</th>\n",
       "      <th>search_7</th>\n",
       "      <th>search_14</th>\n",
       "      <th>play_1</th>\n",
       "      <th>play_7</th>\n",
       "      <th>play_14</th>\n",
       "      <th>down_1</th>\n",
       "      <th>down_7</th>\n",
       "      <th>down_14</th>\n",
       "      <th>churn</th>\n",
       "    </tr>\n",
       "  </thead>\n",
       "  <tbody>\n",
       "    <tr>\n",
       "      <th>0</th>\n",
       "      <td>0</td>\n",
       "      <td>0</td>\n",
       "      <td>0</td>\n",
       "      <td>0</td>\n",
       "      <td>8</td>\n",
       "      <td>159</td>\n",
       "      <td>0</td>\n",
       "      <td>0</td>\n",
       "      <td>0</td>\n",
       "      <td>1</td>\n",
       "    </tr>\n",
       "    <tr>\n",
       "      <th>1</th>\n",
       "      <td>1</td>\n",
       "      <td>6</td>\n",
       "      <td>37</td>\n",
       "      <td>228</td>\n",
       "      <td>322</td>\n",
       "      <td>563</td>\n",
       "      <td>0</td>\n",
       "      <td>1</td>\n",
       "      <td>221</td>\n",
       "      <td>0</td>\n",
       "    </tr>\n",
       "    <tr>\n",
       "      <th>2</th>\n",
       "      <td>4</td>\n",
       "      <td>4</td>\n",
       "      <td>5</td>\n",
       "      <td>7</td>\n",
       "      <td>7</td>\n",
       "      <td>56</td>\n",
       "      <td>0</td>\n",
       "      <td>0</td>\n",
       "      <td>0</td>\n",
       "      <td>0</td>\n",
       "    </tr>\n",
       "  </tbody>\n",
       "</table>\n",
       "</div>"
      ],
      "text/plain": [
       "   search_1  search_7  search_14  play_1  play_7  play_14  down_1  down_7  \\\n",
       "0         0         0          0       0       8      159       0       0   \n",
       "1         1         6         37     228     322      563       0       1   \n",
       "2         4         4          5       7       7       56       0       0   \n",
       "\n",
       "   down_14  churn  \n",
       "0        0      1  \n",
       "1      221      0  \n",
       "2        0      0  "
      ]
     },
     "execution_count": 4,
     "metadata": {},
     "output_type": "execute_result"
    }
   ],
   "source": [
    "df_phone = pd.get_dummies(df_feature['phone'])\n",
    "del df_feature['phone']\n",
    "df_feature.head(3)"
   ]
  },
  {
   "cell_type": "code",
   "execution_count": 5,
   "metadata": {
    "collapsed": false
   },
   "outputs": [
    {
     "data": {
      "text/html": [
       "<div>\n",
       "<style>\n",
       "    .dataframe thead tr:only-child th {\n",
       "        text-align: right;\n",
       "    }\n",
       "\n",
       "    .dataframe thead th {\n",
       "        text-align: left;\n",
       "    }\n",
       "\n",
       "    .dataframe tbody tr th {\n",
       "        vertical-align: top;\n",
       "    }\n",
       "</style>\n",
       "<table border=\"1\" class=\"dataframe\">\n",
       "  <thead>\n",
       "    <tr style=\"text-align: right;\">\n",
       "      <th></th>\n",
       "      <th>search_1</th>\n",
       "      <th>search_7</th>\n",
       "      <th>search_14</th>\n",
       "      <th>play_1</th>\n",
       "      <th>play_7</th>\n",
       "      <th>play_14</th>\n",
       "      <th>down_1</th>\n",
       "      <th>down_7</th>\n",
       "      <th>down_14</th>\n",
       "      <th>churn</th>\n",
       "      <th>ar</th>\n",
       "      <th>ip</th>\n",
       "      <th>mc</th>\n",
       "      <th>wp</th>\n",
       "    </tr>\n",
       "  </thead>\n",
       "  <tbody>\n",
       "    <tr>\n",
       "      <th>0</th>\n",
       "      <td>0</td>\n",
       "      <td>0</td>\n",
       "      <td>0</td>\n",
       "      <td>0</td>\n",
       "      <td>8</td>\n",
       "      <td>159</td>\n",
       "      <td>0</td>\n",
       "      <td>0</td>\n",
       "      <td>0</td>\n",
       "      <td>1</td>\n",
       "      <td>1</td>\n",
       "      <td>0</td>\n",
       "      <td>0</td>\n",
       "      <td>0</td>\n",
       "    </tr>\n",
       "    <tr>\n",
       "      <th>1</th>\n",
       "      <td>1</td>\n",
       "      <td>6</td>\n",
       "      <td>37</td>\n",
       "      <td>228</td>\n",
       "      <td>322</td>\n",
       "      <td>563</td>\n",
       "      <td>0</td>\n",
       "      <td>1</td>\n",
       "      <td>221</td>\n",
       "      <td>0</td>\n",
       "      <td>1</td>\n",
       "      <td>0</td>\n",
       "      <td>0</td>\n",
       "      <td>0</td>\n",
       "    </tr>\n",
       "    <tr>\n",
       "      <th>2</th>\n",
       "      <td>4</td>\n",
       "      <td>4</td>\n",
       "      <td>5</td>\n",
       "      <td>7</td>\n",
       "      <td>7</td>\n",
       "      <td>56</td>\n",
       "      <td>0</td>\n",
       "      <td>0</td>\n",
       "      <td>0</td>\n",
       "      <td>0</td>\n",
       "      <td>1</td>\n",
       "      <td>0</td>\n",
       "      <td>0</td>\n",
       "      <td>0</td>\n",
       "    </tr>\n",
       "  </tbody>\n",
       "</table>\n",
       "</div>"
      ],
      "text/plain": [
       "   search_1  search_7  search_14  play_1  play_7  play_14  down_1  down_7  \\\n",
       "0         0         0          0       0       8      159       0       0   \n",
       "1         1         6         37     228     322      563       0       1   \n",
       "2         4         4          5       7       7       56       0       0   \n",
       "\n",
       "   down_14  churn  ar  ip  mc  wp  \n",
       "0        0      1   1   0   0   0  \n",
       "1      221      0   1   0   0   0  \n",
       "2        0      0   1   0   0   0  "
      ]
     },
     "execution_count": 5,
     "metadata": {},
     "output_type": "execute_result"
    }
   ],
   "source": [
    "df_matrix = df_feature.join(df_phone)\n",
    "df_matrix.head(3)"
   ]
  },
  {
   "cell_type": "code",
   "execution_count": 6,
   "metadata": {
    "collapsed": false
   },
   "outputs": [
    {
     "data": {
      "text/html": [
       "<div>\n",
       "<style>\n",
       "    .dataframe thead tr:only-child th {\n",
       "        text-align: right;\n",
       "    }\n",
       "\n",
       "    .dataframe thead th {\n",
       "        text-align: left;\n",
       "    }\n",
       "\n",
       "    .dataframe tbody tr th {\n",
       "        vertical-align: top;\n",
       "    }\n",
       "</style>\n",
       "<table border=\"1\" class=\"dataframe\">\n",
       "  <thead>\n",
       "    <tr style=\"text-align: right;\">\n",
       "      <th></th>\n",
       "      <th>search_1</th>\n",
       "      <th>search_7</th>\n",
       "      <th>search_14</th>\n",
       "      <th>play_1</th>\n",
       "      <th>play_7</th>\n",
       "      <th>play_14</th>\n",
       "      <th>down_1</th>\n",
       "      <th>down_7</th>\n",
       "      <th>down_14</th>\n",
       "      <th>churn</th>\n",
       "      <th>...</th>\n",
       "      <th>search_ratio_14_1</th>\n",
       "      <th>play_down_ratio_1</th>\n",
       "      <th>play_down_ratio_7</th>\n",
       "      <th>play_down_ratio_14</th>\n",
       "      <th>play_search_ratio_1</th>\n",
       "      <th>play_search_ratio_7</th>\n",
       "      <th>play_search_ratio_14</th>\n",
       "      <th>search_down_ratio_1</th>\n",
       "      <th>search_down_ratio_7</th>\n",
       "      <th>search_down_ratio_14</th>\n",
       "    </tr>\n",
       "  </thead>\n",
       "  <tbody>\n",
       "    <tr>\n",
       "      <th>0</th>\n",
       "      <td>0</td>\n",
       "      <td>0</td>\n",
       "      <td>0</td>\n",
       "      <td>0</td>\n",
       "      <td>8</td>\n",
       "      <td>159</td>\n",
       "      <td>0</td>\n",
       "      <td>0</td>\n",
       "      <td>0</td>\n",
       "      <td>1</td>\n",
       "      <td>...</td>\n",
       "      <td>0.0</td>\n",
       "      <td>0.0</td>\n",
       "      <td>8.000000</td>\n",
       "      <td>159.000000</td>\n",
       "      <td>0.0</td>\n",
       "      <td>8.0</td>\n",
       "      <td>159.000000</td>\n",
       "      <td>0.0</td>\n",
       "      <td>0.000000</td>\n",
       "      <td>0.000000</td>\n",
       "    </tr>\n",
       "    <tr>\n",
       "      <th>1</th>\n",
       "      <td>1</td>\n",
       "      <td>6</td>\n",
       "      <td>37</td>\n",
       "      <td>228</td>\n",
       "      <td>322</td>\n",
       "      <td>563</td>\n",
       "      <td>0</td>\n",
       "      <td>1</td>\n",
       "      <td>221</td>\n",
       "      <td>0</td>\n",
       "      <td>...</td>\n",
       "      <td>18.5</td>\n",
       "      <td>228.0</td>\n",
       "      <td>161.000000</td>\n",
       "      <td>2.536036</td>\n",
       "      <td>114.0</td>\n",
       "      <td>46.0</td>\n",
       "      <td>14.815789</td>\n",
       "      <td>1.0</td>\n",
       "      <td>3.000000</td>\n",
       "      <td>0.166667</td>\n",
       "    </tr>\n",
       "    <tr>\n",
       "      <th>2</th>\n",
       "      <td>4</td>\n",
       "      <td>4</td>\n",
       "      <td>5</td>\n",
       "      <td>7</td>\n",
       "      <td>7</td>\n",
       "      <td>56</td>\n",
       "      <td>0</td>\n",
       "      <td>0</td>\n",
       "      <td>0</td>\n",
       "      <td>0</td>\n",
       "      <td>...</td>\n",
       "      <td>1.0</td>\n",
       "      <td>7.0</td>\n",
       "      <td>7.000000</td>\n",
       "      <td>56.000000</td>\n",
       "      <td>1.4</td>\n",
       "      <td>1.4</td>\n",
       "      <td>9.333333</td>\n",
       "      <td>4.0</td>\n",
       "      <td>4.000000</td>\n",
       "      <td>5.000000</td>\n",
       "    </tr>\n",
       "    <tr>\n",
       "      <th>3</th>\n",
       "      <td>0</td>\n",
       "      <td>1</td>\n",
       "      <td>15</td>\n",
       "      <td>70</td>\n",
       "      <td>130</td>\n",
       "      <td>305</td>\n",
       "      <td>0</td>\n",
       "      <td>0</td>\n",
       "      <td>3</td>\n",
       "      <td>0</td>\n",
       "      <td>...</td>\n",
       "      <td>15.0</td>\n",
       "      <td>70.0</td>\n",
       "      <td>130.000000</td>\n",
       "      <td>76.250000</td>\n",
       "      <td>70.0</td>\n",
       "      <td>65.0</td>\n",
       "      <td>19.062500</td>\n",
       "      <td>0.0</td>\n",
       "      <td>1.000000</td>\n",
       "      <td>3.750000</td>\n",
       "    </tr>\n",
       "    <tr>\n",
       "      <th>4</th>\n",
       "      <td>1</td>\n",
       "      <td>4</td>\n",
       "      <td>4</td>\n",
       "      <td>2</td>\n",
       "      <td>50</td>\n",
       "      <td>180</td>\n",
       "      <td>0</td>\n",
       "      <td>2</td>\n",
       "      <td>2</td>\n",
       "      <td>0</td>\n",
       "      <td>...</td>\n",
       "      <td>2.0</td>\n",
       "      <td>2.0</td>\n",
       "      <td>16.666667</td>\n",
       "      <td>60.000000</td>\n",
       "      <td>1.0</td>\n",
       "      <td>10.0</td>\n",
       "      <td>36.000000</td>\n",
       "      <td>1.0</td>\n",
       "      <td>1.333333</td>\n",
       "      <td>1.333333</td>\n",
       "    </tr>\n",
       "  </tbody>\n",
       "</table>\n",
       "<p>5 rows × 32 columns</p>\n",
       "</div>"
      ],
      "text/plain": [
       "   search_1  search_7  search_14  play_1  play_7  play_14  down_1  down_7  \\\n",
       "0         0         0          0       0       8      159       0       0   \n",
       "1         1         6         37     228     322      563       0       1   \n",
       "2         4         4          5       7       7       56       0       0   \n",
       "3         0         1         15      70     130      305       0       0   \n",
       "4         1         4          4       2      50      180       0       2   \n",
       "\n",
       "   down_14  churn          ...           search_ratio_14_1  play_down_ratio_1  \\\n",
       "0        0      1          ...                         0.0                0.0   \n",
       "1      221      0          ...                        18.5              228.0   \n",
       "2        0      0          ...                         1.0                7.0   \n",
       "3        3      0          ...                        15.0               70.0   \n",
       "4        2      0          ...                         2.0                2.0   \n",
       "\n",
       "   play_down_ratio_7  play_down_ratio_14  play_search_ratio_1  \\\n",
       "0           8.000000          159.000000                  0.0   \n",
       "1         161.000000            2.536036                114.0   \n",
       "2           7.000000           56.000000                  1.4   \n",
       "3         130.000000           76.250000                 70.0   \n",
       "4          16.666667           60.000000                  1.0   \n",
       "\n",
       "   play_search_ratio_7  play_search_ratio_14  search_down_ratio_1  \\\n",
       "0                  8.0            159.000000                  0.0   \n",
       "1                 46.0             14.815789                  1.0   \n",
       "2                  1.4              9.333333                  4.0   \n",
       "3                 65.0             19.062500                  0.0   \n",
       "4                 10.0             36.000000                  1.0   \n",
       "\n",
       "   search_down_ratio_7  search_down_ratio_14  \n",
       "0             0.000000              0.000000  \n",
       "1             3.000000              0.166667  \n",
       "2             4.000000              5.000000  \n",
       "3             1.000000              3.750000  \n",
       "4             1.333333              1.333333  \n",
       "\n",
       "[5 rows x 32 columns]"
      ]
     },
     "execution_count": 6,
     "metadata": {},
     "output_type": "execute_result"
    }
   ],
   "source": [
    "df_matrix['play_ratio_7_1'] = df_matrix['play_7']/(df_matrix['play_1'] + 1)\n",
    "df_matrix['play_ratio_14_7'] = df_matrix['play_14']/(df_matrix['play_7'] + 1)\n",
    "df_matrix['play_ratio_14_1'] = df_matrix['play_14']/(df_matrix['play_1'] + 1)\n",
    "\n",
    "df_matrix['down_ratio_7_1'] = df_matrix['down_7']/(df_matrix['down_1'] + 1)\n",
    "df_matrix['down_ratio_14_7'] = df_matrix['down_14']/(df_matrix['down_7'] + 1)\n",
    "df_matrix['down_ratio_14_1'] = df_matrix['down_14']/(df_matrix['down_1'] + 1)\n",
    "\n",
    "df_matrix['search_ratio_7_1'] = df_matrix['search_7']/(df_matrix['search_1'] + 1)\n",
    "df_matrix['search_ratio_14_7'] = df_matrix['search_14']/(df_matrix['search_7'] + 1)\n",
    "df_matrix['search_ratio_14_1'] = df_matrix['search_14']/(df_matrix['search_1'] + 1)\n",
    "\n",
    "df_matrix['play_down_ratio_1'] = df_matrix['play_1']/(df_matrix['down_1'] + 1)\n",
    "df_matrix['play_down_ratio_7'] = df_matrix['play_7']/(df_matrix['down_7'] + 1)\n",
    "df_matrix['play_down_ratio_14'] = df_matrix['play_14']/(df_matrix['down_14'] + 1)\n",
    "\n",
    "df_matrix['play_search_ratio_1'] = df_matrix['play_1']/(df_matrix['search_1'] + 1)\n",
    "df_matrix['play_search_ratio_7'] = df_matrix['play_7']/(df_matrix['search_7'] + 1)\n",
    "df_matrix['play_search_ratio_14'] = df_matrix['play_14']/(df_matrix['search_14'] + 1)\n",
    "\n",
    "df_matrix['search_down_ratio_1'] = df_matrix['search_1']/(df_matrix['down_1'] + 1)\n",
    "df_matrix['search_down_ratio_7'] = df_matrix['search_7']/(df_matrix['down_7'] + 1)\n",
    "df_matrix['search_down_ratio_14'] = df_matrix['search_14']/(df_matrix['down_14'] + 1)\n",
    "\n",
    "df_matrix.head(5)"
   ]
  },
  {
   "cell_type": "code",
   "execution_count": 7,
   "metadata": {
    "collapsed": true
   },
   "outputs": [],
   "source": [
    "y = np.array(df_matrix['churn'])\n",
    "del df_matrix['churn']\n",
    "x = np.array(df_matrix)"
   ]
  },
  {
   "cell_type": "code",
   "execution_count": 8,
   "metadata": {
    "collapsed": false
   },
   "outputs": [
    {
     "name": "stdout",
     "output_type": "stream",
     "text": [
      "shape of x is:(363200, 31)\n",
      "shape of y is:(363200,)\n"
     ]
    }
   ],
   "source": [
    "print('shape of x is:%s' % str(x.shape))\n",
    "print('shape of y is:%s' % str(y.shape))"
   ]
  },
  {
   "cell_type": "code",
   "execution_count": 9,
   "metadata": {
    "collapsed": false
   },
   "outputs": [
    {
     "name": "stderr",
     "output_type": "stream",
     "text": [
      "/usr/local/lib/python2.7/site-packages/sklearn/cross_validation.py:44: DeprecationWarning: This module was deprecated in version 0.18 in favor of the model_selection module into which all the refactored classes and functions are moved. Also note that the interface of the new CV iterators are different from that of this module. This module will be removed in 0.20.\n",
      "  \"This module will be removed in 0.20.\", DeprecationWarning)\n"
     ]
    }
   ],
   "source": [
    "from sklearn.cross_validation import train_test_split"
   ]
  },
  {
   "cell_type": "code",
   "execution_count": 10,
   "metadata": {
    "collapsed": true
   },
   "outputs": [],
   "source": [
    "x_train, x_test, y_train, y_test = train_test_split(x,y,test_size=0.5, random_state=0)"
   ]
  },
  {
   "cell_type": "code",
   "execution_count": 11,
   "metadata": {
    "collapsed": false
   },
   "outputs": [
    {
     "data": {
      "text/plain": [
       "(31,)"
      ]
     },
     "execution_count": 11,
     "metadata": {},
     "output_type": "execute_result"
    }
   ],
   "source": [
    "feature_names = df_matrix.columns.values\n",
    "feature_names.shape"
   ]
  },
  {
   "cell_type": "markdown",
   "metadata": {},
   "source": [
    "### Logistic Regression Model"
   ]
  },
  {
   "cell_type": "code",
   "execution_count": 12,
   "metadata": {
    "collapsed": false
   },
   "outputs": [
    {
     "data": {
      "text/plain": [
       "LogisticRegression(C=1.0, class_weight=None, dual=False, fit_intercept=True,\n",
       "          intercept_scaling=1, max_iter=100, multi_class='ovr', n_jobs=-1,\n",
       "          penalty='l2', random_state=None, solver='liblinear', tol=0.0001,\n",
       "          verbose=0, warm_start=False)"
      ]
     },
     "execution_count": 12,
     "metadata": {},
     "output_type": "execute_result"
    }
   ],
   "source": [
    "from sklearn.linear_model import LogisticRegression\n",
    "from sklearn.ensemble import RandomForestClassifier\n",
    "from sklearn.model_selection import GridSearchCV  \n",
    "from sklearn import cross_validation\n",
    "\n",
    "LogisticModel = LogisticRegression(n_jobs = -1)\n",
    "LogisticModel.fit(x_train, y_train)"
   ]
  },
  {
   "cell_type": "code",
   "execution_count": 13,
   "metadata": {
    "collapsed": false
   },
   "outputs": [
    {
     "name": "stdout",
     "output_type": "stream",
     "text": [
      "Training DataSet Score: 0.713717\n",
      "Testing DataSet Score: 0.714290\n"
     ]
    }
   ],
   "source": [
    "print('Training DataSet Score: %f' % LogisticModel.score(x_train, y_train))\n",
    "print('Testing DataSet Score: %f' % LogisticModel.score(x_test, y_test))"
   ]
  },
  {
   "cell_type": "markdown",
   "metadata": {},
   "source": [
    "Using GridSearch method to find the best model parameters with lowest mean cross validation score"
   ]
  },
  {
   "cell_type": "code",
   "execution_count": 14,
   "metadata": {
    "collapsed": false
   },
   "outputs": [
    {
     "name": "stdout",
     "output_type": "stream",
     "text": [
      "Logistic Regression: Best parameters set found on development set:\n",
      "{'C': 2, 'tol': 0.001}\n"
     ]
    }
   ],
   "source": [
    "LR_param = {\n",
    "    \"C\": [0.5,1,2,4,8,16],\n",
    "    \"tol\": [0.001,0.0001,0.00001]\n",
    "}\n",
    "LR = LogisticRegression(n_jobs = 4)\n",
    "LR_grid = GridSearchCV(LR, LR_param, cv=5)\n",
    "LR_grid.fit(x_train, y_train)\n",
    "print(\"Logistic Regression: Best parameters set found on development set:\")  \n",
    "print(LR_grid.best_params_)"
   ]
  },
  {
   "cell_type": "code",
   "execution_count": 15,
   "metadata": {
    "collapsed": false
   },
   "outputs": [
    {
     "name": "stdout",
     "output_type": "stream",
     "text": [
      "Training DataSet Score: 0.715050\n",
      "Testing DataSet Score: 0.715699\n"
     ]
    }
   ],
   "source": [
    "LogisticModel = LogisticRegression(C = 2, tol = 0.001)\n",
    "LogisticModel.fit(x_train, y_train)\n",
    "print('Training DataSet Score: %f' % LogisticModel.score(x_train, y_train))\n",
    "print('Testing DataSet Score: %f' % LogisticModel.score(x_test, y_test))"
   ]
  },
  {
   "cell_type": "code",
   "execution_count": null,
   "metadata": {
    "collapsed": true
   },
   "outputs": [],
   "source": []
  },
  {
   "cell_type": "code",
   "execution_count": 16,
   "metadata": {
    "collapsed": false
   },
   "outputs": [],
   "source": [
    "def get_top_values(lst, n, labels):\n",
    "    return [labels[i] for i in np.argsort(lst)[::-1][:n]]  # np.argsort by default sorts values in ascending order"
   ]
  },
  {
   "cell_type": "markdown",
   "metadata": {},
   "source": [
    "The top 5 features to determine the churn activities are:"
   ]
  },
  {
   "cell_type": "code",
   "execution_count": 17,
   "metadata": {
    "collapsed": false
   },
   "outputs": [
    {
     "data": {
      "text/plain": [
       "['ar', 'ip', 'search_down_ratio_1', 'search_ratio_7_1', 'search_1']"
      ]
     },
     "execution_count": 17,
     "metadata": {},
     "output_type": "execute_result"
    }
   ],
   "source": [
    "coeff = np.absolute(LogisticModel.coef_[0])\n",
    "get_top_values(coeff, 5, feature_names)"
   ]
  },
  {
   "cell_type": "markdown",
   "metadata": {},
   "source": [
    "### Random Forest Classifier"
   ]
  },
  {
   "cell_type": "code",
   "execution_count": 18,
   "metadata": {
    "collapsed": false
   },
   "outputs": [
    {
     "data": {
      "text/plain": [
       "RandomForestClassifier(bootstrap=True, class_weight=None, criterion='gini',\n",
       "            max_depth=None, max_features='auto', max_leaf_nodes=None,\n",
       "            min_impurity_split=1e-07, min_samples_leaf=1,\n",
       "            min_samples_split=2, min_weight_fraction_leaf=0.0,\n",
       "            n_estimators=10, n_jobs=-1, oob_score=False, random_state=None,\n",
       "            verbose=0, warm_start=False)"
      ]
     },
     "execution_count": 18,
     "metadata": {},
     "output_type": "execute_result"
    }
   ],
   "source": [
    "RandomForestModel = RandomForestClassifier(n_jobs=-1)\n",
    "RandomForestModel.fit(x_train, y_train)"
   ]
  },
  {
   "cell_type": "code",
   "execution_count": 19,
   "metadata": {
    "collapsed": false
   },
   "outputs": [
    {
     "name": "stdout",
     "output_type": "stream",
     "text": [
      "Training DataSet Score: 0.889273\n",
      "Testing DataSet Score: 0.742401\n"
     ]
    }
   ],
   "source": [
    "print(\"Training DataSet Score: %f\" % (RandomForestModel.score(x_train, y_train)))\n",
    "print(\"Testing DataSet Score: %f\" % (RandomForestModel.score(x_test, y_test)))"
   ]
  },
  {
   "cell_type": "code",
   "execution_count": 21,
   "metadata": {
    "collapsed": false
   },
   "outputs": [
    {
     "name": "stdout",
     "output_type": "stream",
     "text": [
      "Random Forest: Best parameters set found on development set:\n",
      "{'min_samples_split': 160, 'n_estimators': 90, 'criterion': 'entropy'}\n"
     ]
    }
   ],
   "source": [
    "RF_param = {\n",
    "    \"n_estimators\": [60,70,80,90],\n",
    "    \"criterion\": [\"entropy\",\"gini\"],\n",
    "    \"min_samples_split\": [80,100,120,140,160],\n",
    "}\n",
    "RF = RandomForestClassifier(n_jobs=-1, random_state = 1)\n",
    "RF_grid = GridSearchCV(RF, RF_param, cv=5)\n",
    "RF_grid.fit(x_train, y_train)\n",
    "print(\"Random Forest: Best parameters set found on development set:\")  \n",
    "print(RF_grid.best_params_)"
   ]
  },
  {
   "cell_type": "code",
   "execution_count": 22,
   "metadata": {
    "collapsed": false
   },
   "outputs": [
    {
     "name": "stdout",
     "output_type": "stream",
     "text": [
      "Training DataSet Score: 0.778122\n",
      "Testing DataSet Score: 0.754758\n"
     ]
    }
   ],
   "source": [
    "RandomForestModel = RandomForestClassifier(min_samples_split=160, n_estimators=90, criterion='entropy', n_jobs=-1)\n",
    "RandomForestModel.fit(x_train, y_train)\n",
    "print(\"Training DataSet Score: %f\" % (RandomForestModel.score(x_train, y_train)))\n",
    "print(\"Testing DataSet Score: %f\" % (RandomForestModel.score(x_test, y_test)))"
   ]
  },
  {
   "cell_type": "markdown",
   "metadata": {},
   "source": [
    "The top 5 features to determine the churn activities are:"
   ]
  },
  {
   "cell_type": "code",
   "execution_count": 23,
   "metadata": {
    "collapsed": false
   },
   "outputs": [
    {
     "data": {
      "text/plain": [
       "['play_down_ratio_1',\n",
       " 'play_search_ratio_1',\n",
       " 'play_1',\n",
       " 'play_ratio_7_1',\n",
       " 'play_7']"
      ]
     },
     "execution_count": 23,
     "metadata": {},
     "output_type": "execute_result"
    }
   ],
   "source": [
    "get_top_values(RandomForestModel.feature_importances_, 5, feature_names)"
   ]
  },
  {
   "cell_type": "markdown",
   "metadata": {},
   "source": [
    "### Gradient Boosting Decision Tree"
   ]
  },
  {
   "cell_type": "code",
   "execution_count": 24,
   "metadata": {
    "collapsed": true
   },
   "outputs": [],
   "source": [
    "from sklearn.ensemble import GradientBoostingClassifier  #GBM algorithm\n",
    "from sklearn import cross_validation, metrics   #Additional scklearn functions\n",
    "import matplotlib.pylab as plt\n",
    "%matplotlib inline\n",
    "from matplotlib.pylab import rcParams\n",
    "rcParams['figure.figsize'] = 12, 4\n",
    "def modelfit(alg, x_train, y_train, names, performCV=True, printFeatureImportance=True, cv_folds=5):\n",
    "    #Fit the algorithm on the data\n",
    "    alg.fit(x_train, y_train)\n",
    "        \n",
    "    #Predict training set:\n",
    "    y_predictions = alg.predict(x_train)\n",
    "    y_predprob = alg.predict_proba(x_train)[:,1]\n",
    "    \n",
    "    #Perform cross-validation:\n",
    "    if performCV:\n",
    "        cv_score = cross_validation.cross_val_score(alg, x_train, y_train, cv=cv_folds, scoring='roc_auc')\n",
    "    \n",
    "    #Print model report:\n",
    "    print \"\\nModel Report\"\n",
    "    print \"Accuracy : %.4g\" % metrics.accuracy_score(y_train, y_predictions)\n",
    "    print \"AUC Score (Train): %f\" % metrics.roc_auc_score(y_train, y_predprob)\n",
    "    \n",
    "    if performCV:\n",
    "        print \"CV Score : Mean - %.7g | Std - %.7g | Min - %.7g | Max - %.7g\" % (np.mean(cv_score),np.std(cv_score),np.min(cv_score),np.max(cv_score))\n",
    "        \n",
    "    #Print Feature Importance:\n",
    "    if printFeatureImportance:\n",
    "        feat_imp = pd.Series(alg.feature_importances_, names).sort_values(ascending=False)\n",
    "        feat_imp.plot(kind='bar', title='Feature Importances')\n",
    "        plt.ylabel('Feature Importance Score')"
   ]
  },
  {
   "cell_type": "code",
   "execution_count": 25,
   "metadata": {
    "collapsed": false
   },
   "outputs": [
    {
     "name": "stdout",
     "output_type": "stream",
     "text": [
      "\n",
      "Model Report\n",
      "Accuracy : 0.7511\n",
      "AUC Score (Train): 0.830436\n",
      "CV Score : Mean - 0.8286804 | Std - 0.002417049 | Min - 0.825548 | Max - 0.8318539\n"
     ]
    },
    {
     "data": {
      "image/png": "[encoded data removed]",
      "text/plain": [
       "<matplotlib.figure.Figure at 0x11455b090>"
      ]
     },
     "metadata": {},
     "output_type": "display_data"
    }
   ],
   "source": [
    "gbm = GradientBoostingClassifier(random_state=1)\n",
    "modelfit(gbm, x_train, y_train, feature_names)"
   ]
  },
  {
   "cell_type": "code",
   "execution_count": 26,
   "metadata": {
    "collapsed": false
   },
   "outputs": [
    {
     "name": "stdout",
     "output_type": "stream",
     "text": [
      "Training DataSet Score: 0.751129\n",
      "Testing DataSet Score: 0.750066\n"
     ]
    }
   ],
   "source": [
    "print(\"Training DataSet Score: %f\" % (gbm.score(x_train, y_train)))\n",
    "print(\"Testing DataSet Score: %f\" % (gbm.score(x_test, y_test)))"
   ]
  },
  {
   "cell_type": "code",
   "execution_count": 27,
   "metadata": {
    "collapsed": false
   },
   "outputs": [
    {
     "data": {
      "text/plain": [
       "GridSearchCV(cv=5, error_score='raise',\n",
       "       estimator=GradientBoostingClassifier(criterion='friedman_mse', init=None,\n",
       "              learning_rate=0.1, loss='deviance', max_depth=8,\n",
       "              max_features='sqrt', max_leaf_nodes=None,\n",
       "              min_impurity_split=1e-07, min_samples_leaf=50,\n",
       "              min_samples_split=500, min_weight_fraction_leaf=0.0,\n",
       "              n_estimators=100, presort='auto', random_state=10,\n",
       "              subsample=0.8, verbose=0, warm_start=False),\n",
       "       fit_params={}, iid=False, n_jobs=4,\n",
       "       param_grid={'n_estimators': [300, 400, 500, 600, 700, 800, 900]},\n",
       "       pre_dispatch='2*n_jobs', refit=True, return_train_score=True,\n",
       "       scoring='roc_auc', verbose=0)"
      ]
     },
     "execution_count": 27,
     "metadata": {},
     "output_type": "execute_result"
    }
   ],
   "source": [
    "param_test1 = {'n_estimators':range(300, 1000 ,100)}\n",
    "gsearch1 = GridSearchCV(\n",
    "    estimator = GradientBoostingClassifier(learning_rate=0.1, min_samples_split=500,min_samples_leaf=50,max_depth=8,max_features='sqrt',subsample=0.8,random_state=10), \n",
    "    param_grid = param_test1, scoring='roc_auc',n_jobs=4,iid=False, cv=5)\n",
    "gsearch1.fit(x_train,y_train)"
   ]
  },
  {
   "cell_type": "code",
   "execution_count": 28,
   "metadata": {
    "collapsed": false
   },
   "outputs": [
    {
     "name": "stdout",
     "output_type": "stream",
     "text": [
      "[mean: 0.83179, std: 0.00269, params: {'n_estimators': 300}, mean: 0.83146, std: 0.00269, params: {'n_estimators': 400}, mean: 0.83092, std: 0.00262, params: {'n_estimators': 500}, mean: 0.83049, std: 0.00267, params: {'n_estimators': 600}, mean: 0.83004, std: 0.00260, params: {'n_estimators': 700}, mean: 0.82959, std: 0.00264, params: {'n_estimators': 800}, mean: 0.82914, std: 0.00268, params: {'n_estimators': 900}]\n",
      "Best Parameter: {'n_estimators': 300}\n",
      "Best Score: 0.831787\n"
     ]
    },
    {
     "name": "stderr",
     "output_type": "stream",
     "text": [
      "/usr/local/lib/python2.7/site-packages/sklearn/model_selection/_search.py:667: DeprecationWarning: The grid_scores_ attribute was deprecated in version 0.18 in favor of the more elaborate cv_results_ attribute. The grid_scores_ attribute will not be available from 0.20\n",
      "  DeprecationWarning)\n"
     ]
    }
   ],
   "source": [
    "print(gsearch1.grid_scores_)\n",
    "print('Best Parameter: %s' % gsearch1.best_params_)\n",
    "print('Best Score: %f' % gsearch1.best_score_)"
   ]
  },
  {
   "cell_type": "code",
   "execution_count": 29,
   "metadata": {
    "collapsed": false,
    "scrolled": true
   },
   "outputs": [
    {
     "data": {
      "text/plain": [
       "GridSearchCV(cv=5, error_score='raise',\n",
       "       estimator=GradientBoostingClassifier(criterion='friedman_mse', init=None,\n",
       "              learning_rate=0.1, loss='deviance', max_depth=3,\n",
       "              max_features='sqrt', max_leaf_nodes=None,\n",
       "              min_impurity_split=1e-07, min_samples_leaf=1,\n",
       "              min_samples_split=2, min_weight_fraction_leaf=0.0,\n",
       "              n_estimators=300, presort='auto', random_state=10,\n",
       "              subsample=0.8, verbose=0, warm_start=False),\n",
       "       fit_params={}, iid=False, n_jobs=4,\n",
       "       param_grid={'min_samples_split': [200, 400, 600, 800, 1000], 'max_depth': [5, 7, 9, 11, 13, 15]},\n",
       "       pre_dispatch='2*n_jobs', refit=True, return_train_score=True,\n",
       "       scoring='roc_auc', verbose=0)"
      ]
     },
     "execution_count": 29,
     "metadata": {},
     "output_type": "execute_result"
    }
   ],
   "source": [
    "param_test2 = {'max_depth':range(5,16,2), 'min_samples_split':range(200,1001,200)}\n",
    "gsearch2 = GridSearchCV(estimator = GradientBoostingClassifier(learning_rate=0.1, n_estimators=300, max_features='sqrt', subsample=0.8, random_state=10), \n",
    "param_grid = param_test2, scoring='roc_auc',n_jobs=4,iid=False, cv=5)\n",
    "gsearch2.fit(x_train,y_train)"
   ]
  },
  {
   "cell_type": "code",
   "execution_count": 30,
   "metadata": {
    "collapsed": false
   },
   "outputs": [
    {
     "name": "stdout",
     "output_type": "stream",
     "text": [
      "[mean: 0.83134, std: 0.00271, params: {'min_samples_split': 200, 'max_depth': 5}, mean: 0.83145, std: 0.00266, params: {'min_samples_split': 400, 'max_depth': 5}, mean: 0.83144, std: 0.00262, params: {'min_samples_split': 600, 'max_depth': 5}, mean: 0.83151, std: 0.00269, params: {'min_samples_split': 800, 'max_depth': 5}, mean: 0.83136, std: 0.00268, params: {'min_samples_split': 1000, 'max_depth': 5}, mean: 0.83165, std: 0.00249, params: {'min_samples_split': 200, 'max_depth': 7}, mean: 0.83198, std: 0.00268, params: {'min_samples_split': 400, 'max_depth': 7}, mean: 0.83180, std: 0.00266, params: {'min_samples_split': 600, 'max_depth': 7}, mean: 0.83190, std: 0.00280, params: {'min_samples_split': 800, 'max_depth': 7}, mean: 0.83193, std: 0.00265, params: {'min_samples_split': 1000, 'max_depth': 7}, mean: 0.83099, std: 0.00277, params: {'min_samples_split': 200, 'max_depth': 9}, mean: 0.83147, std: 0.00275, params: {'min_samples_split': 400, 'max_depth': 9}, mean: 0.83134, std: 0.00267, params: {'min_samples_split': 600, 'max_depth': 9}, mean: 0.83159, std: 0.00280, params: {'min_samples_split': 800, 'max_depth': 9}, mean: 0.83189, std: 0.00249, params: {'min_samples_split': 1000, 'max_depth': 9}, mean: 0.82953, std: 0.00261, params: {'min_samples_split': 200, 'max_depth': 11}, mean: 0.83053, std: 0.00226, params: {'min_samples_split': 400, 'max_depth': 11}, mean: 0.83082, std: 0.00254, params: {'min_samples_split': 600, 'max_depth': 11}, mean: 0.83116, std: 0.00262, params: {'min_samples_split': 800, 'max_depth': 11}, mean: 0.83118, std: 0.00254, params: {'min_samples_split': 1000, 'max_depth': 11}, mean: 0.82798, std: 0.00221, params: {'min_samples_split': 200, 'max_depth': 13}, mean: 0.82956, std: 0.00248, params: {'min_samples_split': 400, 'max_depth': 13}, mean: 0.83000, std: 0.00254, params: {'min_samples_split': 600, 'max_depth': 13}, mean: 0.83020, std: 0.00245, params: {'min_samples_split': 800, 'max_depth': 13}, mean: 0.83075, std: 0.00251, params: {'min_samples_split': 1000, 'max_depth': 13}, mean: 0.82614, std: 0.00219, params: {'min_samples_split': 200, 'max_depth': 15}, mean: 0.82830, std: 0.00247, params: {'min_samples_split': 400, 'max_depth': 15}, mean: 0.82916, std: 0.00228, params: {'min_samples_split': 600, 'max_depth': 15}, mean: 0.82965, std: 0.00241, params: {'min_samples_split': 800, 'max_depth': 15}, mean: 0.83018, std: 0.00227, params: {'min_samples_split': 1000, 'max_depth': 15}]\n",
      "Best Parameter: {'min_samples_split': 400, 'max_depth': 7}\n",
      "Best Score: 0.831978\n"
     ]
    },
    {
     "name": "stderr",
     "output_type": "stream",
     "text": [
      "/usr/local/lib/python2.7/site-packages/sklearn/model_selection/_search.py:667: DeprecationWarning: The grid_scores_ attribute was deprecated in version 0.18 in favor of the more elaborate cv_results_ attribute. The grid_scores_ attribute will not be available from 0.20\n",
      "  DeprecationWarning)\n"
     ]
    }
   ],
   "source": [
    "print(gsearch2.grid_scores_)\n",
    "print('Best Parameter: %s' % gsearch2.best_params_)\n",
    "print('Best Score: %f' % gsearch2.best_score_)"
   ]
  },
  {
   "cell_type": "code",
   "execution_count": 31,
   "metadata": {
    "collapsed": false
   },
   "outputs": [
    {
     "data": {
      "text/plain": [
       "GridSearchCV(cv=5, error_score='raise',\n",
       "       estimator=GradientBoostingClassifier(criterion='friedman_mse', init=None,\n",
       "              learning_rate=0.1, loss='deviance', max_depth=7,\n",
       "              max_features='sqrt', max_leaf_nodes=None,\n",
       "              min_impurity_split=1e-07, min_samples_leaf=1,\n",
       "              min_samples_split=400, min_weight_fraction_leaf=0.0,\n",
       "              n_estimators=300, presort='auto', random_state=10,\n",
       "              subsample=0.8, verbose=0, warm_start=False),\n",
       "       fit_params={}, iid=False, n_jobs=4,\n",
       "       param_grid={'min_samples_leaf': [100, 110, 120, 130, 140, 150]},\n",
       "       pre_dispatch='2*n_jobs', refit=True, return_train_score=True,\n",
       "       scoring='roc_auc', verbose=0)"
      ]
     },
     "execution_count": 31,
     "metadata": {},
     "output_type": "execute_result"
    }
   ],
   "source": [
    "param_test3 = {'min_samples_leaf':range(100,151,10)}\n",
    "gsearch3 = GridSearchCV(estimator = GradientBoostingClassifier(learning_rate=0.1, n_estimators=300,max_depth=7,min_samples_split=400,max_features='sqrt', subsample=0.8, random_state=10), \n",
    "param_grid = param_test3, scoring='roc_auc',n_jobs=4,iid=False, cv=5)\n",
    "gsearch3.fit(x_train,y_train)"
   ]
  },
  {
   "cell_type": "code",
   "execution_count": 32,
   "metadata": {
    "collapsed": false
   },
   "outputs": [
    {
     "name": "stdout",
     "output_type": "stream",
     "text": [
      "[mean: 0.83180, std: 0.00284, params: {'min_samples_leaf': 100}, mean: 0.83186, std: 0.00272, params: {'min_samples_leaf': 110}, mean: 0.83200, std: 0.00261, params: {'min_samples_leaf': 120}, mean: 0.83175, std: 0.00277, params: {'min_samples_leaf': 130}, mean: 0.83175, std: 0.00268, params: {'min_samples_leaf': 140}, mean: 0.83167, std: 0.00264, params: {'min_samples_leaf': 150}]\n",
      "Best Parameter: {'min_samples_leaf': 120}\n",
      "Best Score: 0.831999\n"
     ]
    },
    {
     "name": "stderr",
     "output_type": "stream",
     "text": [
      "/usr/local/lib/python2.7/site-packages/sklearn/model_selection/_search.py:667: DeprecationWarning: The grid_scores_ attribute was deprecated in version 0.18 in favor of the more elaborate cv_results_ attribute. The grid_scores_ attribute will not be available from 0.20\n",
      "  DeprecationWarning)\n"
     ]
    }
   ],
   "source": [
    "print(gsearch3.grid_scores_)\n",
    "print('Best Parameter: %s' % gsearch3.best_params_)\n",
    "print('Best Score: %f' % gsearch3.best_score_)"
   ]
  },
  {
   "cell_type": "code",
   "execution_count": 33,
   "metadata": {
    "collapsed": false
   },
   "outputs": [
    {
     "data": {
      "text/plain": [
       "GridSearchCV(cv=5, error_score='raise',\n",
       "       estimator=GradientBoostingClassifier(criterion='friedman_mse', init=None,\n",
       "              learning_rate=0.1, loss='deviance', max_depth=7,\n",
       "              max_features=None, max_leaf_nodes=None,\n",
       "              min_impurity_split=1e-07, min_samples_leaf=120,\n",
       "              min_samples_split=400, min_weight_fraction_leaf=0.0,\n",
       "              n_estimators=300, presort='auto', random_state=10,\n",
       "              subsample=1.0, verbose=0, warm_start=False),\n",
       "       fit_params={}, iid=False, n_jobs=4,\n",
       "       param_grid={'subsample': [0.85, 0.9, 0.95, 1]},\n",
       "       pre_dispatch='2*n_jobs', refit=True, return_train_score=True,\n",
       "       scoring='roc_auc', verbose=0)"
      ]
     },
     "execution_count": 33,
     "metadata": {},
     "output_type": "execute_result"
    }
   ],
   "source": [
    "param_test4 = {'subsample':[0.85,0.9, 0.95,1]}\n",
    "gsearch4 = GridSearchCV(estimator = GradientBoostingClassifier(learning_rate=0.1, n_estimators=300,max_depth=7, min_samples_split=400, min_samples_leaf=120, random_state=10),\n",
    "param_grid = param_test4, scoring='roc_auc',n_jobs=4,iid=False, cv=5)\n",
    "gsearch4.fit(x_train,y_train)"
   ]
  },
  {
   "cell_type": "code",
   "execution_count": 34,
   "metadata": {
    "collapsed": false
   },
   "outputs": [
    {
     "name": "stdout",
     "output_type": "stream",
     "text": [
      "[mean: 0.83169, std: 0.00273, params: {'subsample': 0.85}, mean: 0.83187, std: 0.00246, params: {'subsample': 0.9}, mean: 0.83195, std: 0.00272, params: {'subsample': 0.95}, mean: 0.83192, std: 0.00269, params: {'subsample': 1}]\n",
      "Best Parameter: {'subsample': 0.95}\n",
      "Best Score: 0.831953\n"
     ]
    },
    {
     "name": "stderr",
     "output_type": "stream",
     "text": [
      "/usr/local/lib/python2.7/site-packages/sklearn/model_selection/_search.py:667: DeprecationWarning: The grid_scores_ attribute was deprecated in version 0.18 in favor of the more elaborate cv_results_ attribute. The grid_scores_ attribute will not be available from 0.20\n",
      "  DeprecationWarning)\n"
     ]
    }
   ],
   "source": [
    "print(gsearch4.grid_scores_)\n",
    "print('Best Parameter: %s' % gsearch4.best_params_)\n",
    "print('Best Score: %f' % gsearch4.best_score_)"
   ]
  },
  {
   "cell_type": "code",
   "execution_count": 35,
   "metadata": {
    "collapsed": false
   },
   "outputs": [
    {
     "data": {
      "text/plain": [
       "GridSearchCV(cv=5, error_score='raise',\n",
       "       estimator=GradientBoostingClassifier(criterion='friedman_mse', init=None,\n",
       "              learning_rate=0.1, loss='deviance', max_depth=7,\n",
       "              max_features=None, max_leaf_nodes=None,\n",
       "              min_impurity_split=1e-07, min_samples_leaf=120,\n",
       "              min_samples_split=400, min_weight_fraction_leaf=0.0,\n",
       "              n_estimators=300, presort='auto', random_state=10,\n",
       "              subsample=0.95, verbose=0, warm_start=False),\n",
       "       fit_params={}, iid=False, n_jobs=4,\n",
       "       param_grid={'learning_rate': [0.1, 0.05, 0.01, 0.005, 0.001]},\n",
       "       pre_dispatch='2*n_jobs', refit=True, return_train_score=True,\n",
       "       scoring='roc_auc', verbose=0)"
      ]
     },
     "execution_count": 35,
     "metadata": {},
     "output_type": "execute_result"
    }
   ],
   "source": [
    "param_test5 = {'learning_rate':[0.1,0.05,0.01,0.005,0.001]}\n",
    "gsearch5 = GridSearchCV(estimator = GradientBoostingClassifier(n_estimators=300,max_depth=7, min_samples_split=400, min_samples_leaf=120, subsample=0.95,random_state=10),\n",
    "param_grid = param_test5, scoring='roc_auc',n_jobs=4,iid=False, cv=5)\n",
    "gsearch5.fit(x_train,y_train)"
   ]
  },
  {
   "cell_type": "code",
   "execution_count": 36,
   "metadata": {
    "collapsed": false
   },
   "outputs": [
    {
     "name": "stdout",
     "output_type": "stream",
     "text": [
      "[mean: 0.83195, std: 0.00272, params: {'learning_rate': 0.1}, mean: 0.83240, std: 0.00263, params: {'learning_rate': 0.05}, mean: 0.83180, std: 0.00254, params: {'learning_rate': 0.01}, mean: 0.83099, std: 0.00252, params: {'learning_rate': 0.005}, mean: 0.82958, std: 0.00256, params: {'learning_rate': 0.001}]\n",
      "Best Parameter: {'learning_rate': 0.05}\n",
      "Best Score: 0.832400\n"
     ]
    },
    {
     "name": "stderr",
     "output_type": "stream",
     "text": [
      "/usr/local/lib/python2.7/site-packages/sklearn/model_selection/_search.py:667: DeprecationWarning: The grid_scores_ attribute was deprecated in version 0.18 in favor of the more elaborate cv_results_ attribute. The grid_scores_ attribute will not be available from 0.20\n",
      "  DeprecationWarning)\n"
     ]
    }
   ],
   "source": [
    "print(gsearch5.grid_scores_)\n",
    "print('Best Parameter: %s' % gsearch5.best_params_)\n",
    "print('Best Score: %f' % gsearch5.best_score_)"
   ]
  },
  {
   "cell_type": "code",
   "execution_count": 39,
   "metadata": {
    "collapsed": false
   },
   "outputs": [
    {
     "name": "stdout",
     "output_type": "stream",
     "text": [
      "\n",
      "Model Report\n",
      "Accuracy : 0.7644\n",
      "AUC Score (Train): 0.843597\n",
      "CV Score : Mean - 0.8324037 | Std - 0.002639127 | Min - 0.8290152 | Max - 0.8358305\n"
     ]
    },
    {
     "data": {
      "image/png": "[encoded data removed]",
      "text/plain": [
       "<matplotlib.figure.Figure at 0x114cb9c50>"
      ]
     },
     "metadata": {},
     "output_type": "display_data"
    }
   ],
   "source": [
    "gbm = GradientBoostingClassifier(learning_rate = 0.05, n_estimators=300,max_depth=7, min_samples_split=400, min_samples_leaf=130, subsample=0.95,random_state=10)\n",
    "modelfit(gbm, x_train, y_train, feature_names)"
   ]
  },
  {
   "cell_type": "code",
   "execution_count": 40,
   "metadata": {
    "collapsed": false
   },
   "outputs": [
    {
     "name": "stdout",
     "output_type": "stream",
     "text": [
      "Training DataSet Score: 0.764383\n",
      "Testing DataSet Score: 0.752974\n"
     ]
    }
   ],
   "source": [
    "print(\"Training DataSet Score: %f\" % (gbm.score(x_train, y_train)))\n",
    "print(\"Testing DataSet Score: %f\" % (gbm.score(x_test, y_test)))"
   ]
  },
  {
   "cell_type": "code",
   "execution_count": null,
   "metadata": {
    "collapsed": true
   },
   "outputs": [],
   "source": []
  }
 ],
 "metadata": {
  "kernelspec": {
   "display_name": "Python 2",
   "language": "python",
   "name": "python2"
  },
  "language_info": {
   "codemirror_mode": {
    "name": "ipython",
    "version": 2
   },
   "file_extension": ".py",
   "mimetype": "text/x-python",
   "name": "python",
   "nbconvert_exporter": "python",
   "pygments_lexer": "ipython2",
   "version": "2.7.12"
  }
 },
 "nbformat": 4,
 "nbformat_minor": 1
}
